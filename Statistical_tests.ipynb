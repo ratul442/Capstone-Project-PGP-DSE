{
  "nbformat": 4,
  "nbformat_minor": 0,
  "metadata": {
    "kernelspec": {
      "display_name": "Python 3",
      "language": "python",
      "name": "python3"
    },
    "language_info": {
      "codemirror_mode": {
        "name": "ipython",
        "version": 3
      },
      "file_extension": ".py",
      "mimetype": "text/x-python",
      "name": "python",
      "nbconvert_exporter": "python",
      "pygments_lexer": "ipython3",
      "version": "3.7.4"
    },
    "colab": {
      "name": "Statistical tests.ipynb",
      "provenance": []
    }
  },
  "cells": [
    {
      "cell_type": "code",
      "metadata": {
        "id": "k-ESs9Aavq5b"
      },
      "source": [
        "import numpy as np\n",
        "import pandas as pd\n",
        "import seaborn as sns\n",
        "import matplotlib.pyplot as plt"
      ],
      "execution_count": null,
      "outputs": []
    },
    {
      "cell_type": "code",
      "metadata": {
        "id": "EzMsw-Xivq5r"
      },
      "source": [
        "%matplotlib inline"
      ],
      "execution_count": null,
      "outputs": []
    },
    {
      "cell_type": "code",
      "metadata": {
        "id": "4l1ONFKtvq5s"
      },
      "source": [
        "import warnings\n",
        "warnings.filterwarnings('ignore')"
      ],
      "execution_count": null,
      "outputs": []
    },
    {
      "cell_type": "code",
      "metadata": {
        "id": "QIbOo3RXvq5t"
      },
      "source": [
        "train_set=pd.read_excel('train_set.xlsx')\n",
        "pd.set_option('display.max_columns',None)"
      ],
      "execution_count": null,
      "outputs": []
    },
    {
      "cell_type": "code",
      "metadata": {
        "id": "g78khb9Rvq5t"
      },
      "source": [
        "from sklearn.feature_selection import chi2,SelectKBest"
      ],
      "execution_count": null,
      "outputs": []
    },
    {
      "cell_type": "code",
      "metadata": {
        "id": "LLneZdYHvq5t"
      },
      "source": [
        "from sklearn.feature_selection import f_classif\n",
        "from scipy.stats import chi2_contingency\n",
        "from scipy.stats import shapiro,mannwhitneyu\n"
      ],
      "execution_count": null,
      "outputs": []
    },
    {
      "cell_type": "code",
      "metadata": {
        "id": "DZuwh2nwvq5u",
        "outputId": "92d36730-da7d-4a83-ea1f-e8ba2edfab7f"
      },
      "source": [
        "train_set.head()"
      ],
      "execution_count": null,
      "outputs": [
        {
          "output_type": "execute_result",
          "data": {
            "text/html": [
              "<div>\n",
              "<style scoped>\n",
              "    .dataframe tbody tr th:only-of-type {\n",
              "        vertical-align: middle;\n",
              "    }\n",
              "\n",
              "    .dataframe tbody tr th {\n",
              "        vertical-align: top;\n",
              "    }\n",
              "\n",
              "    .dataframe thead th {\n",
              "        text-align: right;\n",
              "    }\n",
              "</style>\n",
              "<table border=\"1\" class=\"dataframe\">\n",
              "  <thead>\n",
              "    <tr style=\"text-align: right;\">\n",
              "      <th></th>\n",
              "      <th>Unnamed: 0</th>\n",
              "      <th>Lead Source</th>\n",
              "      <th>Do Not Email</th>\n",
              "      <th>TotalVisits</th>\n",
              "      <th>Total Time Spent on Website</th>\n",
              "      <th>Page Views Per Visit</th>\n",
              "      <th>Last Activity</th>\n",
              "      <th>Country</th>\n",
              "      <th>Specialization</th>\n",
              "      <th>How did you hear about X Education</th>\n",
              "      <th>What is your current occupation</th>\n",
              "      <th>What matters most to you in choosing a course</th>\n",
              "      <th>Tags</th>\n",
              "      <th>Lead Quality</th>\n",
              "      <th>Lead Profile</th>\n",
              "      <th>City</th>\n",
              "      <th>Asymmetrique Activity Index</th>\n",
              "      <th>Asymmetrique Profile Index</th>\n",
              "      <th>Asymmetrique Activity Score</th>\n",
              "      <th>Asymmetrique Profile Score</th>\n",
              "      <th>A free copy of Mastering The Interview</th>\n",
              "      <th>Last Notable Activity</th>\n",
              "      <th>Converted</th>\n",
              "    </tr>\n",
              "  </thead>\n",
              "  <tbody>\n",
              "    <tr>\n",
              "      <td>0</td>\n",
              "      <td>3112</td>\n",
              "      <td>Direct Traffic</td>\n",
              "      <td>No</td>\n",
              "      <td>1.098612</td>\n",
              "      <td>20.297783</td>\n",
              "      <td>1.098612</td>\n",
              "      <td>Email Responded</td>\n",
              "      <td>India</td>\n",
              "      <td>E-Business</td>\n",
              "      <td>unknown</td>\n",
              "      <td>Unemployed</td>\n",
              "      <td>Better Career Prospects</td>\n",
              "      <td>Status Unknown</td>\n",
              "      <td>Not Sure</td>\n",
              "      <td>Unknown</td>\n",
              "      <td>Tier1</td>\n",
              "      <td>Medium</td>\n",
              "      <td>Medium</td>\n",
              "      <td>14</td>\n",
              "      <td>0.058824</td>\n",
              "      <td>Yes</td>\n",
              "      <td>Email Opened</td>\n",
              "      <td>0</td>\n",
              "    </tr>\n",
              "    <tr>\n",
              "      <td>1</td>\n",
              "      <td>8413</td>\n",
              "      <td>Organic Search</td>\n",
              "      <td>No</td>\n",
              "      <td>1.791759</td>\n",
              "      <td>39.127995</td>\n",
              "      <td>1.791759</td>\n",
              "      <td>SMS Reverted</td>\n",
              "      <td>India</td>\n",
              "      <td>Marketing</td>\n",
              "      <td>unknown</td>\n",
              "      <td>Unemployed</td>\n",
              "      <td>Better Career Prospects</td>\n",
              "      <td>Not Reachable</td>\n",
              "      <td>Not Sure</td>\n",
              "      <td>Unknown</td>\n",
              "      <td>Tier1</td>\n",
              "      <td>Medium</td>\n",
              "      <td>High</td>\n",
              "      <td>15</td>\n",
              "      <td>0.052632</td>\n",
              "      <td>Yes</td>\n",
              "      <td>SMS Sent</td>\n",
              "      <td>1</td>\n",
              "    </tr>\n",
              "    <tr>\n",
              "      <td>2</td>\n",
              "      <td>2961</td>\n",
              "      <td>Reference</td>\n",
              "      <td>No</td>\n",
              "      <td>1.386294</td>\n",
              "      <td>35.327043</td>\n",
              "      <td>0.693147</td>\n",
              "      <td>Email Responded</td>\n",
              "      <td>India</td>\n",
              "      <td>HR</td>\n",
              "      <td>unknown</td>\n",
              "      <td>Student</td>\n",
              "      <td>Better Career Prospects</td>\n",
              "      <td>Closed by Horizzon</td>\n",
              "      <td>Low in Relevance</td>\n",
              "      <td>Potential Lead</td>\n",
              "      <td>Tier1</td>\n",
              "      <td>Medium</td>\n",
              "      <td>High</td>\n",
              "      <td>14</td>\n",
              "      <td>0.047619</td>\n",
              "      <td>Yes</td>\n",
              "      <td>Email Opened</td>\n",
              "      <td>1</td>\n",
              "    </tr>\n",
              "    <tr>\n",
              "      <td>3</td>\n",
              "      <td>24</td>\n",
              "      <td>Google</td>\n",
              "      <td>No</td>\n",
              "      <td>1.945910</td>\n",
              "      <td>33.719431</td>\n",
              "      <td>0.916291</td>\n",
              "      <td>Email Responded</td>\n",
              "      <td>India</td>\n",
              "      <td>Marketing</td>\n",
              "      <td>unknown</td>\n",
              "      <td>Unemployed</td>\n",
              "      <td>Better Career Prospects</td>\n",
              "      <td>Response Received</td>\n",
              "      <td>High in Relevance</td>\n",
              "      <td>Potential Lead</td>\n",
              "      <td>Tier1</td>\n",
              "      <td>Medium</td>\n",
              "      <td>High</td>\n",
              "      <td>14</td>\n",
              "      <td>0.052632</td>\n",
              "      <td>Yes</td>\n",
              "      <td>Email Opened</td>\n",
              "      <td>1</td>\n",
              "    </tr>\n",
              "    <tr>\n",
              "      <td>4</td>\n",
              "      <td>2740</td>\n",
              "      <td>Organic Search</td>\n",
              "      <td>No</td>\n",
              "      <td>1.386294</td>\n",
              "      <td>31.670175</td>\n",
              "      <td>1.386294</td>\n",
              "      <td>Email Responded</td>\n",
              "      <td>India</td>\n",
              "      <td>Logistics</td>\n",
              "      <td>Social Media</td>\n",
              "      <td>Unemployed</td>\n",
              "      <td>Better Career Prospects</td>\n",
              "      <td>Not Reachable</td>\n",
              "      <td>Not Sure</td>\n",
              "      <td>Unknown</td>\n",
              "      <td>Tier1</td>\n",
              "      <td>Medium</td>\n",
              "      <td>Medium</td>\n",
              "      <td>14</td>\n",
              "      <td>0.058824</td>\n",
              "      <td>No</td>\n",
              "      <td>Email Opened</td>\n",
              "      <td>0</td>\n",
              "    </tr>\n",
              "  </tbody>\n",
              "</table>\n",
              "</div>"
            ],
            "text/plain": [
              "   Unnamed: 0     Lead Source Do Not Email  TotalVisits  \\\n",
              "0        3112  Direct Traffic           No     1.098612   \n",
              "1        8413  Organic Search           No     1.791759   \n",
              "2        2961       Reference           No     1.386294   \n",
              "3          24          Google           No     1.945910   \n",
              "4        2740  Organic Search           No     1.386294   \n",
              "\n",
              "   Total Time Spent on Website  Page Views Per Visit    Last Activity Country  \\\n",
              "0                    20.297783              1.098612  Email Responded   India   \n",
              "1                    39.127995              1.791759     SMS Reverted   India   \n",
              "2                    35.327043              0.693147  Email Responded   India   \n",
              "3                    33.719431              0.916291  Email Responded   India   \n",
              "4                    31.670175              1.386294  Email Responded   India   \n",
              "\n",
              "  Specialization How did you hear about X Education  \\\n",
              "0     E-Business                            unknown   \n",
              "1      Marketing                            unknown   \n",
              "2             HR                            unknown   \n",
              "3      Marketing                            unknown   \n",
              "4      Logistics                       Social Media   \n",
              "\n",
              "  What is your current occupation  \\\n",
              "0                      Unemployed   \n",
              "1                      Unemployed   \n",
              "2                         Student   \n",
              "3                      Unemployed   \n",
              "4                      Unemployed   \n",
              "\n",
              "  What matters most to you in choosing a course                Tags  \\\n",
              "0                       Better Career Prospects      Status Unknown   \n",
              "1                       Better Career Prospects       Not Reachable   \n",
              "2                       Better Career Prospects  Closed by Horizzon   \n",
              "3                       Better Career Prospects   Response Received   \n",
              "4                       Better Career Prospects       Not Reachable   \n",
              "\n",
              "        Lead Quality    Lead Profile   City Asymmetrique Activity Index  \\\n",
              "0           Not Sure         Unknown  Tier1                      Medium   \n",
              "1           Not Sure         Unknown  Tier1                      Medium   \n",
              "2   Low in Relevance  Potential Lead  Tier1                      Medium   \n",
              "3  High in Relevance  Potential Lead  Tier1                      Medium   \n",
              "4           Not Sure         Unknown  Tier1                      Medium   \n",
              "\n",
              "  Asymmetrique Profile Index  Asymmetrique Activity Score  \\\n",
              "0                     Medium                           14   \n",
              "1                       High                           15   \n",
              "2                       High                           14   \n",
              "3                       High                           14   \n",
              "4                     Medium                           14   \n",
              "\n",
              "   Asymmetrique Profile Score A free copy of Mastering The Interview  \\\n",
              "0                    0.058824                                    Yes   \n",
              "1                    0.052632                                    Yes   \n",
              "2                    0.047619                                    Yes   \n",
              "3                    0.052632                                    Yes   \n",
              "4                    0.058824                                     No   \n",
              "\n",
              "  Last Notable Activity  Converted  \n",
              "0          Email Opened          0  \n",
              "1              SMS Sent          1  \n",
              "2          Email Opened          1  \n",
              "3          Email Opened          1  \n",
              "4          Email Opened          0  "
            ]
          },
          "metadata": {
            "tags": []
          },
          "execution_count": 308
        }
      ]
    },
    {
      "cell_type": "code",
      "metadata": {
        "id": "IFj1sJgzvq5w"
      },
      "source": [
        "train_set=train_set.drop('Unnamed: 0',axis=1)"
      ],
      "execution_count": null,
      "outputs": []
    },
    {
      "cell_type": "code",
      "metadata": {
        "id": "Z3V53H-2vq5x",
        "outputId": "aa2bde86-29f0-46bf-c4cc-d786ca72db46"
      },
      "source": [
        "train_set.head()"
      ],
      "execution_count": null,
      "outputs": [
        {
          "output_type": "execute_result",
          "data": {
            "text/html": [
              "<div>\n",
              "<style scoped>\n",
              "    .dataframe tbody tr th:only-of-type {\n",
              "        vertical-align: middle;\n",
              "    }\n",
              "\n",
              "    .dataframe tbody tr th {\n",
              "        vertical-align: top;\n",
              "    }\n",
              "\n",
              "    .dataframe thead th {\n",
              "        text-align: right;\n",
              "    }\n",
              "</style>\n",
              "<table border=\"1\" class=\"dataframe\">\n",
              "  <thead>\n",
              "    <tr style=\"text-align: right;\">\n",
              "      <th></th>\n",
              "      <th>Lead Source</th>\n",
              "      <th>Do Not Email</th>\n",
              "      <th>TotalVisits</th>\n",
              "      <th>Total Time Spent on Website</th>\n",
              "      <th>Page Views Per Visit</th>\n",
              "      <th>Last Activity</th>\n",
              "      <th>Country</th>\n",
              "      <th>Specialization</th>\n",
              "      <th>How did you hear about X Education</th>\n",
              "      <th>What is your current occupation</th>\n",
              "      <th>What matters most to you in choosing a course</th>\n",
              "      <th>Tags</th>\n",
              "      <th>Lead Quality</th>\n",
              "      <th>Lead Profile</th>\n",
              "      <th>City</th>\n",
              "      <th>Asymmetrique Activity Index</th>\n",
              "      <th>Asymmetrique Profile Index</th>\n",
              "      <th>Asymmetrique Activity Score</th>\n",
              "      <th>Asymmetrique Profile Score</th>\n",
              "      <th>A free copy of Mastering The Interview</th>\n",
              "      <th>Last Notable Activity</th>\n",
              "      <th>Converted</th>\n",
              "    </tr>\n",
              "  </thead>\n",
              "  <tbody>\n",
              "    <tr>\n",
              "      <td>0</td>\n",
              "      <td>Direct Traffic</td>\n",
              "      <td>No</td>\n",
              "      <td>1.098612</td>\n",
              "      <td>20.297783</td>\n",
              "      <td>1.098612</td>\n",
              "      <td>Email Responded</td>\n",
              "      <td>India</td>\n",
              "      <td>E-Business</td>\n",
              "      <td>unknown</td>\n",
              "      <td>Unemployed</td>\n",
              "      <td>Better Career Prospects</td>\n",
              "      <td>Status Unknown</td>\n",
              "      <td>Not Sure</td>\n",
              "      <td>Unknown</td>\n",
              "      <td>Tier1</td>\n",
              "      <td>Medium</td>\n",
              "      <td>Medium</td>\n",
              "      <td>14</td>\n",
              "      <td>0.058824</td>\n",
              "      <td>Yes</td>\n",
              "      <td>Email Opened</td>\n",
              "      <td>0</td>\n",
              "    </tr>\n",
              "    <tr>\n",
              "      <td>1</td>\n",
              "      <td>Organic Search</td>\n",
              "      <td>No</td>\n",
              "      <td>1.791759</td>\n",
              "      <td>39.127995</td>\n",
              "      <td>1.791759</td>\n",
              "      <td>SMS Reverted</td>\n",
              "      <td>India</td>\n",
              "      <td>Marketing</td>\n",
              "      <td>unknown</td>\n",
              "      <td>Unemployed</td>\n",
              "      <td>Better Career Prospects</td>\n",
              "      <td>Not Reachable</td>\n",
              "      <td>Not Sure</td>\n",
              "      <td>Unknown</td>\n",
              "      <td>Tier1</td>\n",
              "      <td>Medium</td>\n",
              "      <td>High</td>\n",
              "      <td>15</td>\n",
              "      <td>0.052632</td>\n",
              "      <td>Yes</td>\n",
              "      <td>SMS Sent</td>\n",
              "      <td>1</td>\n",
              "    </tr>\n",
              "    <tr>\n",
              "      <td>2</td>\n",
              "      <td>Reference</td>\n",
              "      <td>No</td>\n",
              "      <td>1.386294</td>\n",
              "      <td>35.327043</td>\n",
              "      <td>0.693147</td>\n",
              "      <td>Email Responded</td>\n",
              "      <td>India</td>\n",
              "      <td>HR</td>\n",
              "      <td>unknown</td>\n",
              "      <td>Student</td>\n",
              "      <td>Better Career Prospects</td>\n",
              "      <td>Closed by Horizzon</td>\n",
              "      <td>Low in Relevance</td>\n",
              "      <td>Potential Lead</td>\n",
              "      <td>Tier1</td>\n",
              "      <td>Medium</td>\n",
              "      <td>High</td>\n",
              "      <td>14</td>\n",
              "      <td>0.047619</td>\n",
              "      <td>Yes</td>\n",
              "      <td>Email Opened</td>\n",
              "      <td>1</td>\n",
              "    </tr>\n",
              "    <tr>\n",
              "      <td>3</td>\n",
              "      <td>Google</td>\n",
              "      <td>No</td>\n",
              "      <td>1.945910</td>\n",
              "      <td>33.719431</td>\n",
              "      <td>0.916291</td>\n",
              "      <td>Email Responded</td>\n",
              "      <td>India</td>\n",
              "      <td>Marketing</td>\n",
              "      <td>unknown</td>\n",
              "      <td>Unemployed</td>\n",
              "      <td>Better Career Prospects</td>\n",
              "      <td>Response Received</td>\n",
              "      <td>High in Relevance</td>\n",
              "      <td>Potential Lead</td>\n",
              "      <td>Tier1</td>\n",
              "      <td>Medium</td>\n",
              "      <td>High</td>\n",
              "      <td>14</td>\n",
              "      <td>0.052632</td>\n",
              "      <td>Yes</td>\n",
              "      <td>Email Opened</td>\n",
              "      <td>1</td>\n",
              "    </tr>\n",
              "    <tr>\n",
              "      <td>4</td>\n",
              "      <td>Organic Search</td>\n",
              "      <td>No</td>\n",
              "      <td>1.386294</td>\n",
              "      <td>31.670175</td>\n",
              "      <td>1.386294</td>\n",
              "      <td>Email Responded</td>\n",
              "      <td>India</td>\n",
              "      <td>Logistics</td>\n",
              "      <td>Social Media</td>\n",
              "      <td>Unemployed</td>\n",
              "      <td>Better Career Prospects</td>\n",
              "      <td>Not Reachable</td>\n",
              "      <td>Not Sure</td>\n",
              "      <td>Unknown</td>\n",
              "      <td>Tier1</td>\n",
              "      <td>Medium</td>\n",
              "      <td>Medium</td>\n",
              "      <td>14</td>\n",
              "      <td>0.058824</td>\n",
              "      <td>No</td>\n",
              "      <td>Email Opened</td>\n",
              "      <td>0</td>\n",
              "    </tr>\n",
              "  </tbody>\n",
              "</table>\n",
              "</div>"
            ],
            "text/plain": [
              "      Lead Source Do Not Email  TotalVisits  Total Time Spent on Website  \\\n",
              "0  Direct Traffic           No     1.098612                    20.297783   \n",
              "1  Organic Search           No     1.791759                    39.127995   \n",
              "2       Reference           No     1.386294                    35.327043   \n",
              "3          Google           No     1.945910                    33.719431   \n",
              "4  Organic Search           No     1.386294                    31.670175   \n",
              "\n",
              "   Page Views Per Visit    Last Activity Country Specialization  \\\n",
              "0              1.098612  Email Responded   India     E-Business   \n",
              "1              1.791759     SMS Reverted   India      Marketing   \n",
              "2              0.693147  Email Responded   India             HR   \n",
              "3              0.916291  Email Responded   India      Marketing   \n",
              "4              1.386294  Email Responded   India      Logistics   \n",
              "\n",
              "  How did you hear about X Education What is your current occupation  \\\n",
              "0                            unknown                      Unemployed   \n",
              "1                            unknown                      Unemployed   \n",
              "2                            unknown                         Student   \n",
              "3                            unknown                      Unemployed   \n",
              "4                       Social Media                      Unemployed   \n",
              "\n",
              "  What matters most to you in choosing a course                Tags  \\\n",
              "0                       Better Career Prospects      Status Unknown   \n",
              "1                       Better Career Prospects       Not Reachable   \n",
              "2                       Better Career Prospects  Closed by Horizzon   \n",
              "3                       Better Career Prospects   Response Received   \n",
              "4                       Better Career Prospects       Not Reachable   \n",
              "\n",
              "        Lead Quality    Lead Profile   City Asymmetrique Activity Index  \\\n",
              "0           Not Sure         Unknown  Tier1                      Medium   \n",
              "1           Not Sure         Unknown  Tier1                      Medium   \n",
              "2   Low in Relevance  Potential Lead  Tier1                      Medium   \n",
              "3  High in Relevance  Potential Lead  Tier1                      Medium   \n",
              "4           Not Sure         Unknown  Tier1                      Medium   \n",
              "\n",
              "  Asymmetrique Profile Index  Asymmetrique Activity Score  \\\n",
              "0                     Medium                           14   \n",
              "1                       High                           15   \n",
              "2                       High                           14   \n",
              "3                       High                           14   \n",
              "4                     Medium                           14   \n",
              "\n",
              "   Asymmetrique Profile Score A free copy of Mastering The Interview  \\\n",
              "0                    0.058824                                    Yes   \n",
              "1                    0.052632                                    Yes   \n",
              "2                    0.047619                                    Yes   \n",
              "3                    0.052632                                    Yes   \n",
              "4                    0.058824                                     No   \n",
              "\n",
              "  Last Notable Activity  Converted  \n",
              "0          Email Opened          0  \n",
              "1              SMS Sent          1  \n",
              "2          Email Opened          1  \n",
              "3          Email Opened          1  \n",
              "4          Email Opened          0  "
            ]
          },
          "metadata": {
            "tags": []
          },
          "execution_count": 310
        }
      ]
    },
    {
      "cell_type": "code",
      "metadata": {
        "id": "d6VBygPBvq5x",
        "outputId": "26d963cd-9c05-49be-eae1-8e490f2e7c8d"
      },
      "source": [
        "X_train=train_set.drop('Converted',axis=1)\n",
        "X_train.head()"
      ],
      "execution_count": null,
      "outputs": [
        {
          "output_type": "execute_result",
          "data": {
            "text/html": [
              "<div>\n",
              "<style scoped>\n",
              "    .dataframe tbody tr th:only-of-type {\n",
              "        vertical-align: middle;\n",
              "    }\n",
              "\n",
              "    .dataframe tbody tr th {\n",
              "        vertical-align: top;\n",
              "    }\n",
              "\n",
              "    .dataframe thead th {\n",
              "        text-align: right;\n",
              "    }\n",
              "</style>\n",
              "<table border=\"1\" class=\"dataframe\">\n",
              "  <thead>\n",
              "    <tr style=\"text-align: right;\">\n",
              "      <th></th>\n",
              "      <th>Lead Source</th>\n",
              "      <th>Do Not Email</th>\n",
              "      <th>TotalVisits</th>\n",
              "      <th>Total Time Spent on Website</th>\n",
              "      <th>Page Views Per Visit</th>\n",
              "      <th>Last Activity</th>\n",
              "      <th>Country</th>\n",
              "      <th>Specialization</th>\n",
              "      <th>How did you hear about X Education</th>\n",
              "      <th>What is your current occupation</th>\n",
              "      <th>What matters most to you in choosing a course</th>\n",
              "      <th>Tags</th>\n",
              "      <th>Lead Quality</th>\n",
              "      <th>Lead Profile</th>\n",
              "      <th>City</th>\n",
              "      <th>Asymmetrique Activity Index</th>\n",
              "      <th>Asymmetrique Profile Index</th>\n",
              "      <th>Asymmetrique Activity Score</th>\n",
              "      <th>Asymmetrique Profile Score</th>\n",
              "      <th>A free copy of Mastering The Interview</th>\n",
              "      <th>Last Notable Activity</th>\n",
              "    </tr>\n",
              "  </thead>\n",
              "  <tbody>\n",
              "    <tr>\n",
              "      <td>0</td>\n",
              "      <td>Direct Traffic</td>\n",
              "      <td>No</td>\n",
              "      <td>1.098612</td>\n",
              "      <td>20.297783</td>\n",
              "      <td>1.098612</td>\n",
              "      <td>Email Responded</td>\n",
              "      <td>India</td>\n",
              "      <td>E-Business</td>\n",
              "      <td>unknown</td>\n",
              "      <td>Unemployed</td>\n",
              "      <td>Better Career Prospects</td>\n",
              "      <td>Status Unknown</td>\n",
              "      <td>Not Sure</td>\n",
              "      <td>Unknown</td>\n",
              "      <td>Tier1</td>\n",
              "      <td>Medium</td>\n",
              "      <td>Medium</td>\n",
              "      <td>14</td>\n",
              "      <td>0.058824</td>\n",
              "      <td>Yes</td>\n",
              "      <td>Email Opened</td>\n",
              "    </tr>\n",
              "    <tr>\n",
              "      <td>1</td>\n",
              "      <td>Organic Search</td>\n",
              "      <td>No</td>\n",
              "      <td>1.791759</td>\n",
              "      <td>39.127995</td>\n",
              "      <td>1.791759</td>\n",
              "      <td>SMS Reverted</td>\n",
              "      <td>India</td>\n",
              "      <td>Marketing</td>\n",
              "      <td>unknown</td>\n",
              "      <td>Unemployed</td>\n",
              "      <td>Better Career Prospects</td>\n",
              "      <td>Not Reachable</td>\n",
              "      <td>Not Sure</td>\n",
              "      <td>Unknown</td>\n",
              "      <td>Tier1</td>\n",
              "      <td>Medium</td>\n",
              "      <td>High</td>\n",
              "      <td>15</td>\n",
              "      <td>0.052632</td>\n",
              "      <td>Yes</td>\n",
              "      <td>SMS Sent</td>\n",
              "    </tr>\n",
              "    <tr>\n",
              "      <td>2</td>\n",
              "      <td>Reference</td>\n",
              "      <td>No</td>\n",
              "      <td>1.386294</td>\n",
              "      <td>35.327043</td>\n",
              "      <td>0.693147</td>\n",
              "      <td>Email Responded</td>\n",
              "      <td>India</td>\n",
              "      <td>HR</td>\n",
              "      <td>unknown</td>\n",
              "      <td>Student</td>\n",
              "      <td>Better Career Prospects</td>\n",
              "      <td>Closed by Horizzon</td>\n",
              "      <td>Low in Relevance</td>\n",
              "      <td>Potential Lead</td>\n",
              "      <td>Tier1</td>\n",
              "      <td>Medium</td>\n",
              "      <td>High</td>\n",
              "      <td>14</td>\n",
              "      <td>0.047619</td>\n",
              "      <td>Yes</td>\n",
              "      <td>Email Opened</td>\n",
              "    </tr>\n",
              "    <tr>\n",
              "      <td>3</td>\n",
              "      <td>Google</td>\n",
              "      <td>No</td>\n",
              "      <td>1.945910</td>\n",
              "      <td>33.719431</td>\n",
              "      <td>0.916291</td>\n",
              "      <td>Email Responded</td>\n",
              "      <td>India</td>\n",
              "      <td>Marketing</td>\n",
              "      <td>unknown</td>\n",
              "      <td>Unemployed</td>\n",
              "      <td>Better Career Prospects</td>\n",
              "      <td>Response Received</td>\n",
              "      <td>High in Relevance</td>\n",
              "      <td>Potential Lead</td>\n",
              "      <td>Tier1</td>\n",
              "      <td>Medium</td>\n",
              "      <td>High</td>\n",
              "      <td>14</td>\n",
              "      <td>0.052632</td>\n",
              "      <td>Yes</td>\n",
              "      <td>Email Opened</td>\n",
              "    </tr>\n",
              "    <tr>\n",
              "      <td>4</td>\n",
              "      <td>Organic Search</td>\n",
              "      <td>No</td>\n",
              "      <td>1.386294</td>\n",
              "      <td>31.670175</td>\n",
              "      <td>1.386294</td>\n",
              "      <td>Email Responded</td>\n",
              "      <td>India</td>\n",
              "      <td>Logistics</td>\n",
              "      <td>Social Media</td>\n",
              "      <td>Unemployed</td>\n",
              "      <td>Better Career Prospects</td>\n",
              "      <td>Not Reachable</td>\n",
              "      <td>Not Sure</td>\n",
              "      <td>Unknown</td>\n",
              "      <td>Tier1</td>\n",
              "      <td>Medium</td>\n",
              "      <td>Medium</td>\n",
              "      <td>14</td>\n",
              "      <td>0.058824</td>\n",
              "      <td>No</td>\n",
              "      <td>Email Opened</td>\n",
              "    </tr>\n",
              "  </tbody>\n",
              "</table>\n",
              "</div>"
            ],
            "text/plain": [
              "      Lead Source Do Not Email  TotalVisits  Total Time Spent on Website  \\\n",
              "0  Direct Traffic           No     1.098612                    20.297783   \n",
              "1  Organic Search           No     1.791759                    39.127995   \n",
              "2       Reference           No     1.386294                    35.327043   \n",
              "3          Google           No     1.945910                    33.719431   \n",
              "4  Organic Search           No     1.386294                    31.670175   \n",
              "\n",
              "   Page Views Per Visit    Last Activity Country Specialization  \\\n",
              "0              1.098612  Email Responded   India     E-Business   \n",
              "1              1.791759     SMS Reverted   India      Marketing   \n",
              "2              0.693147  Email Responded   India             HR   \n",
              "3              0.916291  Email Responded   India      Marketing   \n",
              "4              1.386294  Email Responded   India      Logistics   \n",
              "\n",
              "  How did you hear about X Education What is your current occupation  \\\n",
              "0                            unknown                      Unemployed   \n",
              "1                            unknown                      Unemployed   \n",
              "2                            unknown                         Student   \n",
              "3                            unknown                      Unemployed   \n",
              "4                       Social Media                      Unemployed   \n",
              "\n",
              "  What matters most to you in choosing a course                Tags  \\\n",
              "0                       Better Career Prospects      Status Unknown   \n",
              "1                       Better Career Prospects       Not Reachable   \n",
              "2                       Better Career Prospects  Closed by Horizzon   \n",
              "3                       Better Career Prospects   Response Received   \n",
              "4                       Better Career Prospects       Not Reachable   \n",
              "\n",
              "        Lead Quality    Lead Profile   City Asymmetrique Activity Index  \\\n",
              "0           Not Sure         Unknown  Tier1                      Medium   \n",
              "1           Not Sure         Unknown  Tier1                      Medium   \n",
              "2   Low in Relevance  Potential Lead  Tier1                      Medium   \n",
              "3  High in Relevance  Potential Lead  Tier1                      Medium   \n",
              "4           Not Sure         Unknown  Tier1                      Medium   \n",
              "\n",
              "  Asymmetrique Profile Index  Asymmetrique Activity Score  \\\n",
              "0                     Medium                           14   \n",
              "1                       High                           15   \n",
              "2                       High                           14   \n",
              "3                       High                           14   \n",
              "4                     Medium                           14   \n",
              "\n",
              "   Asymmetrique Profile Score A free copy of Mastering The Interview  \\\n",
              "0                    0.058824                                    Yes   \n",
              "1                    0.052632                                    Yes   \n",
              "2                    0.047619                                    Yes   \n",
              "3                    0.052632                                    Yes   \n",
              "4                    0.058824                                     No   \n",
              "\n",
              "  Last Notable Activity  \n",
              "0          Email Opened  \n",
              "1              SMS Sent  \n",
              "2          Email Opened  \n",
              "3          Email Opened  \n",
              "4          Email Opened  "
            ]
          },
          "metadata": {
            "tags": []
          },
          "execution_count": 311
        }
      ]
    },
    {
      "cell_type": "code",
      "metadata": {
        "id": "7de3-T1Evq5y"
      },
      "source": [
        "y_train=train_set['Converted']"
      ],
      "execution_count": null,
      "outputs": []
    },
    {
      "cell_type": "code",
      "metadata": {
        "id": "4ffD1ZLNvq5y",
        "outputId": "2f6bde58-02bb-4431-9bb4-589557af7dfa"
      },
      "source": [
        "y_train"
      ],
      "execution_count": null,
      "outputs": [
        {
          "output_type": "execute_result",
          "data": {
            "text/plain": [
              "0       0\n",
              "1       1\n",
              "2       1\n",
              "3       1\n",
              "4       0\n",
              "       ..\n",
              "6463    0\n",
              "6464    1\n",
              "6465    1\n",
              "6466    0\n",
              "6467    1\n",
              "Name: Converted, Length: 6468, dtype: int64"
            ]
          },
          "metadata": {
            "tags": []
          },
          "execution_count": 313
        }
      ]
    },
    {
      "cell_type": "code",
      "metadata": {
        "id": "xFouNrrmvq5y"
      },
      "source": [
        "cat_cols=X_train.select_dtypes(include=['object']).columns"
      ],
      "execution_count": null,
      "outputs": []
    },
    {
      "cell_type": "code",
      "metadata": {
        "id": "keZJ492tvq5z"
      },
      "source": [
        "num_cols=X_train.select_dtypes(include=[np.number]).columns"
      ],
      "execution_count": null,
      "outputs": []
    },
    {
      "cell_type": "code",
      "metadata": {
        "id": "l0cDvRuRvq5z",
        "outputId": "93642edb-fdb1-4ab2-8962-d61021a94d22"
      },
      "source": [
        "X_train[num_cols]"
      ],
      "execution_count": null,
      "outputs": [
        {
          "output_type": "execute_result",
          "data": {
            "text/html": [
              "<div>\n",
              "<style scoped>\n",
              "    .dataframe tbody tr th:only-of-type {\n",
              "        vertical-align: middle;\n",
              "    }\n",
              "\n",
              "    .dataframe tbody tr th {\n",
              "        vertical-align: top;\n",
              "    }\n",
              "\n",
              "    .dataframe thead th {\n",
              "        text-align: right;\n",
              "    }\n",
              "</style>\n",
              "<table border=\"1\" class=\"dataframe\">\n",
              "  <thead>\n",
              "    <tr style=\"text-align: right;\">\n",
              "      <th></th>\n",
              "      <th>TotalVisits</th>\n",
              "      <th>Total Time Spent on Website</th>\n",
              "      <th>Page Views Per Visit</th>\n",
              "      <th>Asymmetrique Activity Score</th>\n",
              "      <th>Asymmetrique Profile Score</th>\n",
              "    </tr>\n",
              "  </thead>\n",
              "  <tbody>\n",
              "    <tr>\n",
              "      <td>0</td>\n",
              "      <td>1.098612</td>\n",
              "      <td>20.297783</td>\n",
              "      <td>1.098612</td>\n",
              "      <td>14</td>\n",
              "      <td>0.058824</td>\n",
              "    </tr>\n",
              "    <tr>\n",
              "      <td>1</td>\n",
              "      <td>1.791759</td>\n",
              "      <td>39.127995</td>\n",
              "      <td>1.791759</td>\n",
              "      <td>15</td>\n",
              "      <td>0.052632</td>\n",
              "    </tr>\n",
              "    <tr>\n",
              "      <td>2</td>\n",
              "      <td>1.386294</td>\n",
              "      <td>35.327043</td>\n",
              "      <td>0.693147</td>\n",
              "      <td>14</td>\n",
              "      <td>0.047619</td>\n",
              "    </tr>\n",
              "    <tr>\n",
              "      <td>3</td>\n",
              "      <td>1.945910</td>\n",
              "      <td>33.719431</td>\n",
              "      <td>0.916291</td>\n",
              "      <td>14</td>\n",
              "      <td>0.052632</td>\n",
              "    </tr>\n",
              "    <tr>\n",
              "      <td>4</td>\n",
              "      <td>1.386294</td>\n",
              "      <td>31.670175</td>\n",
              "      <td>1.386294</td>\n",
              "      <td>14</td>\n",
              "      <td>0.058824</td>\n",
              "    </tr>\n",
              "    <tr>\n",
              "      <td>...</td>\n",
              "      <td>...</td>\n",
              "      <td>...</td>\n",
              "      <td>...</td>\n",
              "      <td>...</td>\n",
              "      <td>...</td>\n",
              "    </tr>\n",
              "    <tr>\n",
              "      <td>6463</td>\n",
              "      <td>1.386294</td>\n",
              "      <td>10.000000</td>\n",
              "      <td>0.916291</td>\n",
              "      <td>14</td>\n",
              "      <td>0.058824</td>\n",
              "    </tr>\n",
              "    <tr>\n",
              "      <td>6464</td>\n",
              "      <td>1.609438</td>\n",
              "      <td>7.280110</td>\n",
              "      <td>1.098612</td>\n",
              "      <td>14</td>\n",
              "      <td>0.058824</td>\n",
              "    </tr>\n",
              "    <tr>\n",
              "      <td>6465</td>\n",
              "      <td>0.000000</td>\n",
              "      <td>0.000000</td>\n",
              "      <td>0.000000</td>\n",
              "      <td>15</td>\n",
              "      <td>0.062500</td>\n",
              "    </tr>\n",
              "    <tr>\n",
              "      <td>6466</td>\n",
              "      <td>1.945910</td>\n",
              "      <td>13.038405</td>\n",
              "      <td>1.386294</td>\n",
              "      <td>14</td>\n",
              "      <td>0.055556</td>\n",
              "    </tr>\n",
              "    <tr>\n",
              "      <td>6467</td>\n",
              "      <td>1.098612</td>\n",
              "      <td>37.309516</td>\n",
              "      <td>1.098612</td>\n",
              "      <td>15</td>\n",
              "      <td>0.055556</td>\n",
              "    </tr>\n",
              "  </tbody>\n",
              "</table>\n",
              "<p>6468 rows × 5 columns</p>\n",
              "</div>"
            ],
            "text/plain": [
              "      TotalVisits  Total Time Spent on Website  Page Views Per Visit  \\\n",
              "0        1.098612                    20.297783              1.098612   \n",
              "1        1.791759                    39.127995              1.791759   \n",
              "2        1.386294                    35.327043              0.693147   \n",
              "3        1.945910                    33.719431              0.916291   \n",
              "4        1.386294                    31.670175              1.386294   \n",
              "...           ...                          ...                   ...   \n",
              "6463     1.386294                    10.000000              0.916291   \n",
              "6464     1.609438                     7.280110              1.098612   \n",
              "6465     0.000000                     0.000000              0.000000   \n",
              "6466     1.945910                    13.038405              1.386294   \n",
              "6467     1.098612                    37.309516              1.098612   \n",
              "\n",
              "      Asymmetrique Activity Score  Asymmetrique Profile Score  \n",
              "0                              14                    0.058824  \n",
              "1                              15                    0.052632  \n",
              "2                              14                    0.047619  \n",
              "3                              14                    0.052632  \n",
              "4                              14                    0.058824  \n",
              "...                           ...                         ...  \n",
              "6463                           14                    0.058824  \n",
              "6464                           14                    0.058824  \n",
              "6465                           15                    0.062500  \n",
              "6466                           14                    0.055556  \n",
              "6467                           15                    0.055556  \n",
              "\n",
              "[6468 rows x 5 columns]"
            ]
          },
          "metadata": {
            "tags": []
          },
          "execution_count": 316
        }
      ]
    },
    {
      "cell_type": "code",
      "metadata": {
        "id": "QInfl3wXvq5z",
        "outputId": "7ec518c7-9ef5-439d-ea31-9455d396fc49"
      },
      "source": [
        "X_train[cat_cols]"
      ],
      "execution_count": null,
      "outputs": [
        {
          "output_type": "execute_result",
          "data": {
            "text/html": [
              "<div>\n",
              "<style scoped>\n",
              "    .dataframe tbody tr th:only-of-type {\n",
              "        vertical-align: middle;\n",
              "    }\n",
              "\n",
              "    .dataframe tbody tr th {\n",
              "        vertical-align: top;\n",
              "    }\n",
              "\n",
              "    .dataframe thead th {\n",
              "        text-align: right;\n",
              "    }\n",
              "</style>\n",
              "<table border=\"1\" class=\"dataframe\">\n",
              "  <thead>\n",
              "    <tr style=\"text-align: right;\">\n",
              "      <th></th>\n",
              "      <th>Lead Source</th>\n",
              "      <th>Do Not Email</th>\n",
              "      <th>Last Activity</th>\n",
              "      <th>Country</th>\n",
              "      <th>Specialization</th>\n",
              "      <th>How did you hear about X Education</th>\n",
              "      <th>What is your current occupation</th>\n",
              "      <th>What matters most to you in choosing a course</th>\n",
              "      <th>Tags</th>\n",
              "      <th>Lead Quality</th>\n",
              "      <th>Lead Profile</th>\n",
              "      <th>City</th>\n",
              "      <th>Asymmetrique Activity Index</th>\n",
              "      <th>Asymmetrique Profile Index</th>\n",
              "      <th>A free copy of Mastering The Interview</th>\n",
              "      <th>Last Notable Activity</th>\n",
              "    </tr>\n",
              "  </thead>\n",
              "  <tbody>\n",
              "    <tr>\n",
              "      <td>0</td>\n",
              "      <td>Direct Traffic</td>\n",
              "      <td>No</td>\n",
              "      <td>Email Responded</td>\n",
              "      <td>India</td>\n",
              "      <td>E-Business</td>\n",
              "      <td>unknown</td>\n",
              "      <td>Unemployed</td>\n",
              "      <td>Better Career Prospects</td>\n",
              "      <td>Status Unknown</td>\n",
              "      <td>Not Sure</td>\n",
              "      <td>Unknown</td>\n",
              "      <td>Tier1</td>\n",
              "      <td>Medium</td>\n",
              "      <td>Medium</td>\n",
              "      <td>Yes</td>\n",
              "      <td>Email Opened</td>\n",
              "    </tr>\n",
              "    <tr>\n",
              "      <td>1</td>\n",
              "      <td>Organic Search</td>\n",
              "      <td>No</td>\n",
              "      <td>SMS Reverted</td>\n",
              "      <td>India</td>\n",
              "      <td>Marketing</td>\n",
              "      <td>unknown</td>\n",
              "      <td>Unemployed</td>\n",
              "      <td>Better Career Prospects</td>\n",
              "      <td>Not Reachable</td>\n",
              "      <td>Not Sure</td>\n",
              "      <td>Unknown</td>\n",
              "      <td>Tier1</td>\n",
              "      <td>Medium</td>\n",
              "      <td>High</td>\n",
              "      <td>Yes</td>\n",
              "      <td>SMS Sent</td>\n",
              "    </tr>\n",
              "    <tr>\n",
              "      <td>2</td>\n",
              "      <td>Reference</td>\n",
              "      <td>No</td>\n",
              "      <td>Email Responded</td>\n",
              "      <td>India</td>\n",
              "      <td>HR</td>\n",
              "      <td>unknown</td>\n",
              "      <td>Student</td>\n",
              "      <td>Better Career Prospects</td>\n",
              "      <td>Closed by Horizzon</td>\n",
              "      <td>Low in Relevance</td>\n",
              "      <td>Potential Lead</td>\n",
              "      <td>Tier1</td>\n",
              "      <td>Medium</td>\n",
              "      <td>High</td>\n",
              "      <td>Yes</td>\n",
              "      <td>Email Opened</td>\n",
              "    </tr>\n",
              "    <tr>\n",
              "      <td>3</td>\n",
              "      <td>Google</td>\n",
              "      <td>No</td>\n",
              "      <td>Email Responded</td>\n",
              "      <td>India</td>\n",
              "      <td>Marketing</td>\n",
              "      <td>unknown</td>\n",
              "      <td>Unemployed</td>\n",
              "      <td>Better Career Prospects</td>\n",
              "      <td>Response Received</td>\n",
              "      <td>High in Relevance</td>\n",
              "      <td>Potential Lead</td>\n",
              "      <td>Tier1</td>\n",
              "      <td>Medium</td>\n",
              "      <td>High</td>\n",
              "      <td>Yes</td>\n",
              "      <td>Email Opened</td>\n",
              "    </tr>\n",
              "    <tr>\n",
              "      <td>4</td>\n",
              "      <td>Organic Search</td>\n",
              "      <td>No</td>\n",
              "      <td>Email Responded</td>\n",
              "      <td>India</td>\n",
              "      <td>Logistics</td>\n",
              "      <td>Social Media</td>\n",
              "      <td>Unemployed</td>\n",
              "      <td>Better Career Prospects</td>\n",
              "      <td>Not Reachable</td>\n",
              "      <td>Not Sure</td>\n",
              "      <td>Unknown</td>\n",
              "      <td>Tier1</td>\n",
              "      <td>Medium</td>\n",
              "      <td>Medium</td>\n",
              "      <td>No</td>\n",
              "      <td>Email Opened</td>\n",
              "    </tr>\n",
              "    <tr>\n",
              "      <td>...</td>\n",
              "      <td>...</td>\n",
              "      <td>...</td>\n",
              "      <td>...</td>\n",
              "      <td>...</td>\n",
              "      <td>...</td>\n",
              "      <td>...</td>\n",
              "      <td>...</td>\n",
              "      <td>...</td>\n",
              "      <td>...</td>\n",
              "      <td>...</td>\n",
              "      <td>...</td>\n",
              "      <td>...</td>\n",
              "      <td>...</td>\n",
              "      <td>...</td>\n",
              "      <td>...</td>\n",
              "      <td>...</td>\n",
              "    </tr>\n",
              "    <tr>\n",
              "      <td>6463</td>\n",
              "      <td>Google</td>\n",
              "      <td>No</td>\n",
              "      <td>Email Responded</td>\n",
              "      <td>India</td>\n",
              "      <td>unknown</td>\n",
              "      <td>unknown</td>\n",
              "      <td>Not Disclosed</td>\n",
              "      <td>Others</td>\n",
              "      <td>Status Unknown</td>\n",
              "      <td>Not Sure</td>\n",
              "      <td>Unknown</td>\n",
              "      <td>Unknown</td>\n",
              "      <td>Medium</td>\n",
              "      <td>Medium</td>\n",
              "      <td>No</td>\n",
              "      <td>Email Opened</td>\n",
              "    </tr>\n",
              "    <tr>\n",
              "      <td>6464</td>\n",
              "      <td>Direct Traffic</td>\n",
              "      <td>No</td>\n",
              "      <td>SMS Reverted</td>\n",
              "      <td>India</td>\n",
              "      <td>Logistics</td>\n",
              "      <td>Student of SomeSchool</td>\n",
              "      <td>Unemployed</td>\n",
              "      <td>Better Career Prospects</td>\n",
              "      <td>Status Unknown</td>\n",
              "      <td>Not Sure</td>\n",
              "      <td>Unknown</td>\n",
              "      <td>Tier3</td>\n",
              "      <td>Medium</td>\n",
              "      <td>Medium</td>\n",
              "      <td>No</td>\n",
              "      <td>SMS Sent</td>\n",
              "    </tr>\n",
              "    <tr>\n",
              "      <td>6465</td>\n",
              "      <td>Olark Chat</td>\n",
              "      <td>No</td>\n",
              "      <td>Email Responded</td>\n",
              "      <td>unknown</td>\n",
              "      <td>unknown</td>\n",
              "      <td>unknown</td>\n",
              "      <td>Unemployed</td>\n",
              "      <td>Better Career Prospects</td>\n",
              "      <td>Status Unknown</td>\n",
              "      <td>Not Sure</td>\n",
              "      <td>Unknown</td>\n",
              "      <td>Unknown</td>\n",
              "      <td>Medium</td>\n",
              "      <td>Medium</td>\n",
              "      <td>No</td>\n",
              "      <td>Email Opened</td>\n",
              "    </tr>\n",
              "    <tr>\n",
              "      <td>6466</td>\n",
              "      <td>Organic Search</td>\n",
              "      <td>No</td>\n",
              "      <td>Email Unsubscribed</td>\n",
              "      <td>India</td>\n",
              "      <td>E-Business</td>\n",
              "      <td>unknown</td>\n",
              "      <td>Not Disclosed</td>\n",
              "      <td>Others</td>\n",
              "      <td>Status Unknown</td>\n",
              "      <td>Not Sure</td>\n",
              "      <td>Unknown</td>\n",
              "      <td>Tier3</td>\n",
              "      <td>Medium</td>\n",
              "      <td>High</td>\n",
              "      <td>Yes</td>\n",
              "      <td>Unreachable</td>\n",
              "    </tr>\n",
              "    <tr>\n",
              "      <td>6467</td>\n",
              "      <td>Google</td>\n",
              "      <td>No</td>\n",
              "      <td>Email Responded</td>\n",
              "      <td>India</td>\n",
              "      <td>Finance</td>\n",
              "      <td>Online Search</td>\n",
              "      <td>Unemployed</td>\n",
              "      <td>Better Career Prospects</td>\n",
              "      <td>Status Unknown</td>\n",
              "      <td>Not Sure</td>\n",
              "      <td>Unknown</td>\n",
              "      <td>Tier2</td>\n",
              "      <td>Medium</td>\n",
              "      <td>High</td>\n",
              "      <td>No</td>\n",
              "      <td>Email Opened</td>\n",
              "    </tr>\n",
              "  </tbody>\n",
              "</table>\n",
              "<p>6468 rows × 16 columns</p>\n",
              "</div>"
            ],
            "text/plain": [
              "         Lead Source Do Not Email       Last Activity  Country Specialization  \\\n",
              "0     Direct Traffic           No     Email Responded    India     E-Business   \n",
              "1     Organic Search           No        SMS Reverted    India      Marketing   \n",
              "2          Reference           No     Email Responded    India             HR   \n",
              "3             Google           No     Email Responded    India      Marketing   \n",
              "4     Organic Search           No     Email Responded    India      Logistics   \n",
              "...              ...          ...                 ...      ...            ...   \n",
              "6463          Google           No     Email Responded    India        unknown   \n",
              "6464  Direct Traffic           No        SMS Reverted    India      Logistics   \n",
              "6465      Olark Chat           No     Email Responded  unknown        unknown   \n",
              "6466  Organic Search           No  Email Unsubscribed    India     E-Business   \n",
              "6467          Google           No     Email Responded    India        Finance   \n",
              "\n",
              "     How did you hear about X Education What is your current occupation  \\\n",
              "0                               unknown                      Unemployed   \n",
              "1                               unknown                      Unemployed   \n",
              "2                               unknown                         Student   \n",
              "3                               unknown                      Unemployed   \n",
              "4                          Social Media                      Unemployed   \n",
              "...                                 ...                             ...   \n",
              "6463                            unknown                   Not Disclosed   \n",
              "6464              Student of SomeSchool                      Unemployed   \n",
              "6465                            unknown                      Unemployed   \n",
              "6466                            unknown                   Not Disclosed   \n",
              "6467                      Online Search                      Unemployed   \n",
              "\n",
              "     What matters most to you in choosing a course                Tags  \\\n",
              "0                          Better Career Prospects      Status Unknown   \n",
              "1                          Better Career Prospects       Not Reachable   \n",
              "2                          Better Career Prospects  Closed by Horizzon   \n",
              "3                          Better Career Prospects   Response Received   \n",
              "4                          Better Career Prospects       Not Reachable   \n",
              "...                                            ...                 ...   \n",
              "6463                                        Others      Status Unknown   \n",
              "6464                       Better Career Prospects      Status Unknown   \n",
              "6465                       Better Career Prospects      Status Unknown   \n",
              "6466                                        Others      Status Unknown   \n",
              "6467                       Better Career Prospects      Status Unknown   \n",
              "\n",
              "           Lead Quality    Lead Profile     City Asymmetrique Activity Index  \\\n",
              "0              Not Sure         Unknown    Tier1                      Medium   \n",
              "1              Not Sure         Unknown    Tier1                      Medium   \n",
              "2      Low in Relevance  Potential Lead    Tier1                      Medium   \n",
              "3     High in Relevance  Potential Lead    Tier1                      Medium   \n",
              "4              Not Sure         Unknown    Tier1                      Medium   \n",
              "...                 ...             ...      ...                         ...   \n",
              "6463           Not Sure         Unknown  Unknown                      Medium   \n",
              "6464           Not Sure         Unknown    Tier3                      Medium   \n",
              "6465           Not Sure         Unknown  Unknown                      Medium   \n",
              "6466           Not Sure         Unknown    Tier3                      Medium   \n",
              "6467           Not Sure         Unknown    Tier2                      Medium   \n",
              "\n",
              "     Asymmetrique Profile Index A free copy of Mastering The Interview  \\\n",
              "0                        Medium                                    Yes   \n",
              "1                          High                                    Yes   \n",
              "2                          High                                    Yes   \n",
              "3                          High                                    Yes   \n",
              "4                        Medium                                     No   \n",
              "...                         ...                                    ...   \n",
              "6463                     Medium                                     No   \n",
              "6464                     Medium                                     No   \n",
              "6465                     Medium                                     No   \n",
              "6466                       High                                    Yes   \n",
              "6467                       High                                     No   \n",
              "\n",
              "     Last Notable Activity  \n",
              "0             Email Opened  \n",
              "1                 SMS Sent  \n",
              "2             Email Opened  \n",
              "3             Email Opened  \n",
              "4             Email Opened  \n",
              "...                    ...  \n",
              "6463          Email Opened  \n",
              "6464              SMS Sent  \n",
              "6465          Email Opened  \n",
              "6466           Unreachable  \n",
              "6467          Email Opened  \n",
              "\n",
              "[6468 rows x 16 columns]"
            ]
          },
          "metadata": {
            "tags": []
          },
          "execution_count": 317
        }
      ]
    },
    {
      "cell_type": "markdown",
      "metadata": {
        "id": "D8hY0g2avq5z"
      },
      "source": [
        "# Checking relationship of categorical columns with the target on the basis of appropriate statistical tests (Bivariate analysis)"
      ]
    },
    {
      "cell_type": "code",
      "metadata": {
        "id": "9cjrfBdnvq50"
      },
      "source": [
        "# do tests for categorical columns"
      ],
      "execution_count": null,
      "outputs": []
    },
    {
      "cell_type": "code",
      "metadata": {
        "id": "XLZyI0h1vq50"
      },
      "source": [
        "p_values=[]\n",
        "\n",
        "for i in cat_cols:\n",
        "    ct=pd.crosstab(X_train[i],y_train)\n",
        "    p_value=chi2_contingency(ct)[1]\n",
        "    p_values.append(p_value)"
      ],
      "execution_count": null,
      "outputs": []
    },
    {
      "cell_type": "code",
      "metadata": {
        "id": "b9sjDzBjvq50",
        "outputId": "62f07f00-2cad-4923-a545-d18936966efd"
      },
      "source": [
        "p_values"
      ],
      "execution_count": null,
      "outputs": [
        {
          "output_type": "execute_result",
          "data": {
            "text/plain": [
              "[4.13505266559678e-133,\n",
              " 4.738865104455306e-28,\n",
              " 4.029000864709554e-194,\n",
              " 5.95053368048728e-06,\n",
              " 2.1810819495595e-34,\n",
              " 0.0027190024528637516,\n",
              " 2.831539686196306e-250,\n",
              " 9.151543099381976e-157,\n",
              " 0.0,\n",
              " 0.0,\n",
              " 8.53440352697686e-222,\n",
              " 9.305526228984487e-08,\n",
              " 8.18239703452781e-28,\n",
              " 1.1321891796463588e-16,\n",
              " 0.0010643495294842857,\n",
              " 2.4441781215996164e-184]"
            ]
          },
          "metadata": {
            "tags": []
          },
          "execution_count": 320
        }
      ]
    },
    {
      "cell_type": "code",
      "metadata": {
        "id": "KRGlg7bXvq51",
        "outputId": "69f1c567-11a3-47be-9584-70a04d90684a"
      },
      "source": [
        "pd.DataFrame({'cat_columns':list(cat_cols),'p_values':p_values})"
      ],
      "execution_count": null,
      "outputs": [
        {
          "output_type": "execute_result",
          "data": {
            "text/html": [
              "<div>\n",
              "<style scoped>\n",
              "    .dataframe tbody tr th:only-of-type {\n",
              "        vertical-align: middle;\n",
              "    }\n",
              "\n",
              "    .dataframe tbody tr th {\n",
              "        vertical-align: top;\n",
              "    }\n",
              "\n",
              "    .dataframe thead th {\n",
              "        text-align: right;\n",
              "    }\n",
              "</style>\n",
              "<table border=\"1\" class=\"dataframe\">\n",
              "  <thead>\n",
              "    <tr style=\"text-align: right;\">\n",
              "      <th></th>\n",
              "      <th>cat_columns</th>\n",
              "      <th>p_values</th>\n",
              "    </tr>\n",
              "  </thead>\n",
              "  <tbody>\n",
              "    <tr>\n",
              "      <td>0</td>\n",
              "      <td>Lead Source</td>\n",
              "      <td>4.135053e-133</td>\n",
              "    </tr>\n",
              "    <tr>\n",
              "      <td>1</td>\n",
              "      <td>Do Not Email</td>\n",
              "      <td>4.738865e-28</td>\n",
              "    </tr>\n",
              "    <tr>\n",
              "      <td>2</td>\n",
              "      <td>Last Activity</td>\n",
              "      <td>4.029001e-194</td>\n",
              "    </tr>\n",
              "    <tr>\n",
              "      <td>3</td>\n",
              "      <td>Country</td>\n",
              "      <td>5.950534e-06</td>\n",
              "    </tr>\n",
              "    <tr>\n",
              "      <td>4</td>\n",
              "      <td>Specialization</td>\n",
              "      <td>2.181082e-34</td>\n",
              "    </tr>\n",
              "    <tr>\n",
              "      <td>5</td>\n",
              "      <td>How did you hear about X Education</td>\n",
              "      <td>2.719002e-03</td>\n",
              "    </tr>\n",
              "    <tr>\n",
              "      <td>6</td>\n",
              "      <td>What is your current occupation</td>\n",
              "      <td>2.831540e-250</td>\n",
              "    </tr>\n",
              "    <tr>\n",
              "      <td>7</td>\n",
              "      <td>What matters most to you in choosing a course</td>\n",
              "      <td>9.151543e-157</td>\n",
              "    </tr>\n",
              "    <tr>\n",
              "      <td>8</td>\n",
              "      <td>Tags</td>\n",
              "      <td>0.000000e+00</td>\n",
              "    </tr>\n",
              "    <tr>\n",
              "      <td>9</td>\n",
              "      <td>Lead Quality</td>\n",
              "      <td>0.000000e+00</td>\n",
              "    </tr>\n",
              "    <tr>\n",
              "      <td>10</td>\n",
              "      <td>Lead Profile</td>\n",
              "      <td>8.534404e-222</td>\n",
              "    </tr>\n",
              "    <tr>\n",
              "      <td>11</td>\n",
              "      <td>City</td>\n",
              "      <td>9.305526e-08</td>\n",
              "    </tr>\n",
              "    <tr>\n",
              "      <td>12</td>\n",
              "      <td>Asymmetrique Activity Index</td>\n",
              "      <td>8.182397e-28</td>\n",
              "    </tr>\n",
              "    <tr>\n",
              "      <td>13</td>\n",
              "      <td>Asymmetrique Profile Index</td>\n",
              "      <td>1.132189e-16</td>\n",
              "    </tr>\n",
              "    <tr>\n",
              "      <td>14</td>\n",
              "      <td>A free copy of Mastering The Interview</td>\n",
              "      <td>1.064350e-03</td>\n",
              "    </tr>\n",
              "    <tr>\n",
              "      <td>15</td>\n",
              "      <td>Last Notable Activity</td>\n",
              "      <td>2.444178e-184</td>\n",
              "    </tr>\n",
              "  </tbody>\n",
              "</table>\n",
              "</div>"
            ],
            "text/plain": [
              "                                      cat_columns       p_values\n",
              "0                                     Lead Source  4.135053e-133\n",
              "1                                    Do Not Email   4.738865e-28\n",
              "2                                   Last Activity  4.029001e-194\n",
              "3                                         Country   5.950534e-06\n",
              "4                                  Specialization   2.181082e-34\n",
              "5              How did you hear about X Education   2.719002e-03\n",
              "6                 What is your current occupation  2.831540e-250\n",
              "7   What matters most to you in choosing a course  9.151543e-157\n",
              "8                                            Tags   0.000000e+00\n",
              "9                                    Lead Quality   0.000000e+00\n",
              "10                                   Lead Profile  8.534404e-222\n",
              "11                                           City   9.305526e-08\n",
              "12                    Asymmetrique Activity Index   8.182397e-28\n",
              "13                     Asymmetrique Profile Index   1.132189e-16\n",
              "14         A free copy of Mastering The Interview   1.064350e-03\n",
              "15                          Last Notable Activity  2.444178e-184"
            ]
          },
          "metadata": {
            "tags": []
          },
          "execution_count": 321
        }
      ]
    },
    {
      "cell_type": "markdown",
      "metadata": {
        "id": "Nw6717Rdvq51"
      },
      "source": [
        "# visualizing for categorical columns"
      ]
    },
    {
      "cell_type": "code",
      "metadata": {
        "id": "RgJlUdJRvq51",
        "outputId": "f069713f-61e7-484e-d29e-0eed2dccc6c4"
      },
      "source": [
        "plt.figure(figsize=(15,40))\n",
        "for i,j in enumerate(cat_cols,1):\n",
        "    \n",
        "\n",
        "    plt.subplot(8,2,i)\n",
        "    sns.countplot(X_train[j],hue=y_train)\n",
        "    plt.xticks(rotation=90)\n",
        "plt.tight_layout()\n"
      ],
      "execution_count": null,
      "outputs": [
        {
          "output_type": "display_data",
          "data": {
            "image/png": "[encoded data removed]",
            "text/plain": [
              "<Figure size 1080x2880 with 16 Axes>"
            ]
          },
          "metadata": {
            "tags": [],
            "needs_background": "light"
          }
        }
      ]
    },
    {
      "cell_type": "code",
      "metadata": {
        "id": "UBuFoac6vq51"
      },
      "source": [
        ""
      ],
      "execution_count": null,
      "outputs": []
    },
    {
      "cell_type": "code",
      "metadata": {
        "id": "ax4y-G55vq52"
      },
      "source": [
        ""
      ],
      "execution_count": null,
      "outputs": []
    },
    {
      "cell_type": "markdown",
      "metadata": {
        "id": "q75gbtXOvq52"
      },
      "source": [
        "# Conclusion for categorical columns"
      ]
    },
    {
      "cell_type": "markdown",
      "metadata": {
        "id": "k_uI-7Mavq52"
      },
      "source": [
        "# since all p_values are < 0.05 => we can say that all my categorical columns are having relationship with the target variable."
      ]
    },
    {
      "cell_type": "code",
      "metadata": {
        "id": "xHawedHUvq52"
      },
      "source": [
        ""
      ],
      "execution_count": null,
      "outputs": []
    },
    {
      "cell_type": "markdown",
      "metadata": {
        "id": "07nEgvbqvq52"
      },
      "source": [
        "# checking for variance for each numerical feature (Univariate analysis)"
      ]
    },
    {
      "cell_type": "code",
      "metadata": {
        "id": "0pT_6zZbvq53",
        "outputId": "4bc9cf3b-398c-47b3-ac0c-b5064f59d3a3"
      },
      "source": [
        "for i in num_cols:\n",
        "    print('variance of column {} ='.format(i),' ',X_train[i].var())"
      ],
      "execution_count": null,
      "outputs": [
        {
          "output_type": "stream",
          "text": [
            "variance of column TotalVisits =   0.6321650428480624\n",
            "variance of column Total Time Spent on Website =   192.3914012409157\n",
            "variance of column Page Views Per Visit =   0.43606870385195484\n",
            "variance of column Asymmetrique Activity Score =   1.0548834389597883\n",
            "variance of column Asymmetrique Profile Score =   2.023924764822011e-05\n"
          ],
          "name": "stdout"
        }
      ]
    },
    {
      "cell_type": "markdown",
      "metadata": {
        "id": "05jhtzinvq53"
      },
      "source": [
        "# Leaving Total Time Spent on Website rest of all the numerical features are showing low variance."
      ]
    },
    {
      "cell_type": "markdown",
      "metadata": {
        "id": "dtTtQTEcvq53"
      },
      "source": [
        "# checking relation between each numerical column and target (Bivariate analysis)"
      ]
    },
    {
      "cell_type": "code",
      "metadata": {
        "id": "BaMH4OzSvq53"
      },
      "source": [
        "# checking relationship for column TotalVisits with target"
      ],
      "execution_count": null,
      "outputs": []
    },
    {
      "cell_type": "code",
      "metadata": {
        "id": "IAP-H4nXvq53"
      },
      "source": [
        "# 1st we will do normality test"
      ],
      "execution_count": null,
      "outputs": []
    },
    {
      "cell_type": "code",
      "metadata": {
        "id": "B4P_uZ3jvq54",
        "outputId": "ff7898ce-4053-48a0-c738-eac648dfebed"
      },
      "source": [
        "sns.distplot(train_set[train_set['Converted']==0]['TotalVisits'])\n",
        "print('p_value=',shapiro(train_set[train_set['Converted']==0]['TotalVisits'])[1])"
      ],
      "execution_count": null,
      "outputs": [
        {
          "output_type": "stream",
          "text": [
            "p_value= 6.926618309157571e-42\n"
          ],
          "name": "stdout"
        },
        {
          "output_type": "display_data",
          "data": {
            "image/png": "[encoded data removed]",
            "text/plain": [
              "<Figure size 432x288 with 1 Axes>"
            ]
          },
          "metadata": {
            "tags": [],
            "needs_background": "light"
          }
        }
      ]
    },
    {
      "cell_type": "code",
      "metadata": {
        "scrolled": false,
        "id": "SJXbNSfOvq55",
        "outputId": "6b90da9c-dc3a-43ba-cf70-cb28d4f128d5"
      },
      "source": [
        "sns.distplot(train_set[train_set['Converted']==1]['TotalVisits'])\n",
        "print('p_value=',shapiro(train_set[train_set['Converted']==1]['TotalVisits'])[1])"
      ],
      "execution_count": null,
      "outputs": [
        {
          "output_type": "stream",
          "text": [
            "p_value= 3.4477676335706517e-38\n"
          ],
          "name": "stdout"
        },
        {
          "output_type": "display_data",
          "data": {
            "image/png": "[encoded data removed]",
            "text/plain": [
              "<Figure size 432x288 with 1 Axes>"
            ]
          },
          "metadata": {
            "tags": [],
            "needs_background": "light"
          }
        }
      ]
    },
    {
      "cell_type": "code",
      "metadata": {
        "id": "-DZmZ3Mevq56"
      },
      "source": [
        "# since p value is < 0.05 => our sample data is not normally distributed => we will go with non parametric test"
      ],
      "execution_count": null,
      "outputs": []
    },
    {
      "cell_type": "code",
      "metadata": {
        "id": "Z4M8zYanvq56",
        "outputId": "e69c159f-9b59-4d86-96ed-a16806a260ce"
      },
      "source": [
        "mannwhitneyu(train_set[train_set['Converted']==1]['TotalVisits'],train_set[train_set['Converted']==0]['TotalVisits'])"
      ],
      "execution_count": null,
      "outputs": [
        {
          "output_type": "execute_result",
          "data": {
            "text/plain": [
              "MannwhitneyuResult(statistic=4759231.5, pvalue=0.001743130890003308)"
            ]
          },
          "metadata": {
            "tags": []
          },
          "execution_count": 329
        }
      ]
    },
    {
      "cell_type": "code",
      "metadata": {
        "id": "3iQVdXV_vq57"
      },
      "source": [
        "# since p value < 0.05 => TotalVisits is significant feature"
      ],
      "execution_count": null,
      "outputs": []
    },
    {
      "cell_type": "code",
      "metadata": {
        "id": "O6RF8dLVvq57",
        "outputId": "156a0d50-8aac-459c-c4e6-3eab0538b0b6"
      },
      "source": [
        "sns.distplot(train_set[train_set['Converted']==0]['TotalVisits'],kde_kws={'shade':True},hist=False)\n",
        "sns.distplot(train_set[train_set['Converted']==1]['TotalVisits'],kde_kws={'shade':True},hist=False)\n",
        "plt.show()"
      ],
      "execution_count": null,
      "outputs": [
        {
          "output_type": "display_data",
          "data": {
            "image/png": "[encoded data removed]",
            "text/plain": [
              "<Figure size 432x288 with 1 Axes>"
            ]
          },
          "metadata": {
            "tags": [],
            "needs_background": "light"
          }
        }
      ]
    },
    {
      "cell_type": "markdown",
      "metadata": {
        "id": "b432gAMYvq57"
      },
      "source": [
        "# from the above plot also we can see that column Page Views Per Visit is not able to distinguish the classes in our target feature. So it is insignificant. "
      ]
    },
    {
      "cell_type": "code",
      "metadata": {
        "id": "1QnGxq0Hvq57"
      },
      "source": [
        ""
      ],
      "execution_count": null,
      "outputs": []
    },
    {
      "cell_type": "code",
      "metadata": {
        "id": "FC_cjsl-vq58"
      },
      "source": [
        "# checking relationship for column Total Time Spent on Website with target"
      ],
      "execution_count": null,
      "outputs": []
    },
    {
      "cell_type": "code",
      "metadata": {
        "id": "3GFKq1SOvq58"
      },
      "source": [
        "# 1st we will do normality test"
      ],
      "execution_count": null,
      "outputs": []
    },
    {
      "cell_type": "code",
      "metadata": {
        "id": "6l3K5T_rvq58",
        "outputId": "59978d86-5f83-4bd8-bcc9-a1e4d571ac96"
      },
      "source": [
        "sns.distplot(train_set[train_set['Converted']==0]['Total Time Spent on Website'])\n",
        "print('p_value=',shapiro(train_set[train_set['Converted']==0]['Total Time Spent on Website'])[1])"
      ],
      "execution_count": null,
      "outputs": [
        {
          "output_type": "stream",
          "text": [
            "p_value= 3.811671952809935e-41\n"
          ],
          "name": "stdout"
        },
        {
          "output_type": "display_data",
          "data": {
            "image/png": "[encoded data removed]",
            "text/plain": [
              "<Figure size 432x288 with 1 Axes>"
            ]
          },
          "metadata": {
            "tags": [],
            "needs_background": "light"
          }
        }
      ]
    },
    {
      "cell_type": "code",
      "metadata": {
        "id": "iEIsQlA3vq58",
        "outputId": "f2a7bab9-00ee-49cb-af17-9b86d94ce18f"
      },
      "source": [
        "sns.distplot(train_set[train_set['Converted']==1]['Total Time Spent on Website'])\n",
        "print('p_value=',shapiro(train_set[train_set['Converted']==1]['Total Time Spent on Website'])[1])"
      ],
      "execution_count": null,
      "outputs": [
        {
          "output_type": "stream",
          "text": [
            "p_value= 4.90454462513686e-44\n"
          ],
          "name": "stdout"
        },
        {
          "output_type": "display_data",
          "data": {
            "image/png": "[encoded data removed]",
            "text/plain": [
              "<Figure size 432x288 with 1 Axes>"
            ]
          },
          "metadata": {
            "tags": [],
            "needs_background": "light"
          }
        }
      ]
    },
    {
      "cell_type": "code",
      "metadata": {
        "id": "VEmHJZnsvq59"
      },
      "source": [
        "# since p value is < 0.05 => our sample data is not normally distributed => we will go with non parametric test"
      ],
      "execution_count": null,
      "outputs": []
    },
    {
      "cell_type": "code",
      "metadata": {
        "id": "wcz6-Dinvq59",
        "outputId": "70febc55-c571-4f0e-f8c5-3427b3f77b29"
      },
      "source": [
        "mannwhitneyu(train_set[train_set['Converted']==1]['Total Time Spent on Website'],train_set[train_set['Converted']==0]['Total Time Spent on Website'])"
      ],
      "execution_count": null,
      "outputs": [
        {
          "output_type": "execute_result",
          "data": {
            "text/plain": [
              "MannwhitneyuResult(statistic=3494823.5, pvalue=6.143277738507575e-92)"
            ]
          },
          "metadata": {
            "tags": []
          },
          "execution_count": 337
        }
      ]
    },
    {
      "cell_type": "code",
      "metadata": {
        "id": "WsIHFa4dvq59"
      },
      "source": [
        "# since p value < 0.05 => Total Time Spent on Website is significant feature"
      ],
      "execution_count": null,
      "outputs": []
    },
    {
      "cell_type": "code",
      "metadata": {
        "id": "HWR8-K1Pvq59",
        "outputId": "b26e837b-cfb4-4a26-e393-d13755b16077"
      },
      "source": [
        "sns.distplot(train_set[train_set['Converted']==0]['Total Time Spent on Website'],kde_kws={'shade':True},hist=False)\n",
        "sns.distplot(train_set[train_set['Converted']==1]['Total Time Spent on Website'],kde_kws={'shade':True},hist=False)\n",
        "plt.show()"
      ],
      "execution_count": null,
      "outputs": [
        {
          "output_type": "display_data",
          "data": {
            "image/png": "[encoded data removed]",
            "text/plain": [
              "<Figure size 432x288 with 1 Axes>"
            ]
          },
          "metadata": {
            "tags": [],
            "needs_background": "light"
          }
        }
      ]
    },
    {
      "cell_type": "markdown",
      "metadata": {
        "id": "kXhjMA8Ivq5-"
      },
      "source": [
        "# from the above plot also we can see that column Total Time Spent on Website is able to distinguish the classes in our target feature. So it is significant. "
      ]
    },
    {
      "cell_type": "code",
      "metadata": {
        "id": "Gr1hkUQ7vq5-"
      },
      "source": [
        ""
      ],
      "execution_count": null,
      "outputs": []
    },
    {
      "cell_type": "code",
      "metadata": {
        "id": "KmX6LQOevq5-"
      },
      "source": [
        "# checking relationship for column Page Views Per Visit with target"
      ],
      "execution_count": null,
      "outputs": []
    },
    {
      "cell_type": "code",
      "metadata": {
        "id": "QYZ-gWkXvq5-"
      },
      "source": [
        "# 1st we will do normality test"
      ],
      "execution_count": null,
      "outputs": []
    },
    {
      "cell_type": "code",
      "metadata": {
        "id": "AtAgR1Cxvq5-",
        "outputId": "f2d2e9d2-19f0-4732-f724-29bdad9ce29b"
      },
      "source": [
        "sns.distplot(train_set[train_set['Converted']==0]['Page Views Per Visit'])\n",
        "print('p_value=',shapiro(train_set[train_set['Converted']==0]['Page Views Per Visit'])[1])"
      ],
      "execution_count": null,
      "outputs": [
        {
          "output_type": "stream",
          "text": [
            "p_value= 7.847271400218976e-44\n"
          ],
          "name": "stdout"
        },
        {
          "output_type": "display_data",
          "data": {
            "image/png": "[encoded data removed]",
            "text/plain": [
              "<Figure size 432x288 with 1 Axes>"
            ]
          },
          "metadata": {
            "tags": [],
            "needs_background": "light"
          }
        }
      ]
    },
    {
      "cell_type": "code",
      "metadata": {
        "scrolled": true,
        "id": "2PJUUyBgvq5_",
        "outputId": "b4ecf023-bfeb-47fe-c5ac-15f1333fa1fb"
      },
      "source": [
        "sns.distplot(train_set[train_set['Converted']==1]['Page Views Per Visit'])\n",
        "print('p_value=',shapiro(train_set[train_set['Converted']==1]['Page Views Per Visit'])[1])"
      ],
      "execution_count": null,
      "outputs": [
        {
          "output_type": "stream",
          "text": [
            "p_value= 3.200073836756904e-39\n"
          ],
          "name": "stdout"
        },
        {
          "output_type": "display_data",
          "data": {
            "image/png": "[encoded data removed]",
            "text/plain": [
              "<Figure size 432x288 with 1 Axes>"
            ]
          },
          "metadata": {
            "tags": [],
            "needs_background": "light"
          }
        }
      ]
    },
    {
      "cell_type": "code",
      "metadata": {
        "id": "ruJbS9rsvq5_"
      },
      "source": [
        "# since p value is < 0.05 => our sample data is not normally distributed => we will go with non parametric test"
      ],
      "execution_count": null,
      "outputs": []
    },
    {
      "cell_type": "code",
      "metadata": {
        "id": "IL6ENHYNvq5_",
        "outputId": "ccd635fd-05fd-4429-b529-a3a975d1aa99"
      },
      "source": [
        "mannwhitneyu(train_set[train_set['Converted']==1]['Page Views Per Visit'],train_set[train_set['Converted']==0]['Page Views Per Visit'])"
      ],
      "execution_count": null,
      "outputs": [
        {
          "output_type": "execute_result",
          "data": {
            "text/plain": [
              "MannwhitneyuResult(statistic=4950328.0, pvalue=0.39167679027035596)"
            ]
          },
          "metadata": {
            "tags": []
          },
          "execution_count": 345
        }
      ]
    },
    {
      "cell_type": "code",
      "metadata": {
        "id": "InQGZuY2vq5_"
      },
      "source": [
        "# since p value < 0.05 => Page Views Per Visit is not a significant feature. So we will drop it."
      ],
      "execution_count": null,
      "outputs": []
    },
    {
      "cell_type": "code",
      "metadata": {
        "id": "rZH55cEOvq5_",
        "outputId": "c411315d-6e0c-4b85-fdb3-2e2844858ae9"
      },
      "source": [
        "sns.distplot(train_set[train_set['Converted']==0]['Page Views Per Visit'],kde_kws={'shade':True},hist=False)\n",
        "sns.distplot(train_set[train_set['Converted']==1]['Page Views Per Visit'],kde_kws={'shade':True},hist=False)\n",
        "plt.show()"
      ],
      "execution_count": null,
      "outputs": [
        {
          "output_type": "display_data",
          "data": {
            "image/png": "[encoded data removed]",
            "text/plain": [
              "<Figure size 432x288 with 1 Axes>"
            ]
          },
          "metadata": {
            "tags": [],
            "needs_background": "light"
          }
        }
      ]
    },
    {
      "cell_type": "markdown",
      "metadata": {
        "id": "gtuCrCIovq6A"
      },
      "source": [
        "# from the above plot also we can see that column Page Views Per Visit is not able to distinguish the classes in our target feature. So it is insignificant. "
      ]
    },
    {
      "cell_type": "code",
      "metadata": {
        "id": "VSQl2xjpvq6A"
      },
      "source": [
        ""
      ],
      "execution_count": null,
      "outputs": []
    },
    {
      "cell_type": "code",
      "metadata": {
        "id": "ITMWq-xcvq6A"
      },
      "source": [
        "# checking relationship for column Asymmetrique Activity Score with target"
      ],
      "execution_count": null,
      "outputs": []
    },
    {
      "cell_type": "code",
      "metadata": {
        "id": "-BJcChIVvq6A"
      },
      "source": [
        "# 1st we will do normality test"
      ],
      "execution_count": null,
      "outputs": []
    },
    {
      "cell_type": "code",
      "metadata": {
        "id": "_e9uLZdXvq6A",
        "outputId": "9e786c52-5693-4afc-f502-8b3c2a037f52"
      },
      "source": [
        "sns.distplot(train_set[train_set['Converted']==0]['Asymmetrique Activity Score'])\n",
        "print('p_value=',shapiro(train_set[train_set['Converted']==0]['Asymmetrique Activity Score'])[1])"
      ],
      "execution_count": null,
      "outputs": [
        {
          "output_type": "stream",
          "text": [
            "p_value= 0.0\n"
          ],
          "name": "stdout"
        },
        {
          "output_type": "display_data",
          "data": {
            "image/png": "[encoded data removed]",
            "text/plain": [
              "<Figure size 432x288 with 1 Axes>"
            ]
          },
          "metadata": {
            "tags": [],
            "needs_background": "light"
          }
        }
      ]
    },
    {
      "cell_type": "code",
      "metadata": {
        "id": "nt73V49pvq6B",
        "outputId": "b42c6dd5-ab7e-4a31-fe9f-13cd195b656b"
      },
      "source": [
        "sns.distplot(train_set[train_set['Converted']==1]['Asymmetrique Activity Score'])\n",
        "print('p_value=',shapiro(train_set[train_set['Converted']==1]['Asymmetrique Activity Score'])[1])"
      ],
      "execution_count": null,
      "outputs": [
        {
          "output_type": "stream",
          "text": [
            "p_value= 0.0\n"
          ],
          "name": "stdout"
        },
        {
          "output_type": "display_data",
          "data": {
            "image/png": "[encoded data removed]",
            "text/plain": [
              "<Figure size 432x288 with 1 Axes>"
            ]
          },
          "metadata": {
            "tags": [],
            "needs_background": "light"
          }
        }
      ]
    },
    {
      "cell_type": "code",
      "metadata": {
        "id": "zTZ7KTNIvq6C"
      },
      "source": [
        "# since p value is < 0.05 => our sample data is not normally distributed => we will go with non parametric test"
      ],
      "execution_count": null,
      "outputs": []
    },
    {
      "cell_type": "code",
      "metadata": {
        "id": "qXmrD2I-vq6D",
        "outputId": "49e22713-7cd3-4ccc-c934-1dd202e74194"
      },
      "source": [
        "mannwhitneyu(train_set[train_set['Converted']==1]['Asymmetrique Activity Score'],train_set[train_set['Converted']==0]['Asymmetrique Activity Score'])"
      ],
      "execution_count": null,
      "outputs": [
        {
          "output_type": "execute_result",
          "data": {
            "text/plain": [
              "MannwhitneyuResult(statistic=3941748.0, pvalue=1.1660506353677145e-61)"
            ]
          },
          "metadata": {
            "tags": []
          },
          "execution_count": 353
        }
      ]
    },
    {
      "cell_type": "code",
      "metadata": {
        "id": "ZZasIevcvq6E"
      },
      "source": [
        "# since p value < 0.05 => Asymmetrique Activity Score is significant feature"
      ],
      "execution_count": null,
      "outputs": []
    },
    {
      "cell_type": "code",
      "metadata": {
        "id": "_NtjzCpfvq6F",
        "outputId": "58e96e4e-a633-4fae-f15b-5333fb006899"
      },
      "source": [
        "plt.figure(figsize=(10,5))\n",
        "sns.distplot(train_set[train_set['Converted']==0]['Asymmetrique Activity Score'],kde_kws={'shade':True},hist=False)\n",
        "sns.distplot(train_set[train_set['Converted']==1]['Asymmetrique Activity Score'],kde_kws={'shade':True},hist=False)\n",
        "plt.show()"
      ],
      "execution_count": null,
      "outputs": [
        {
          "output_type": "display_data",
          "data": {
            "image/png": "[encoded data removed]",
            "text/plain": [
              "<Figure size 720x360 with 1 Axes>"
            ]
          },
          "metadata": {
            "tags": [],
            "needs_background": "light"
          }
        }
      ]
    },
    {
      "cell_type": "markdown",
      "metadata": {
        "id": "hzEdb1zGvq6F"
      },
      "source": [
        "# from the above plot also we can see that column Asymmetrique Activity Score is not able to distinguish the classes in our target feature. So it is insignificant.  "
      ]
    },
    {
      "cell_type": "code",
      "metadata": {
        "id": "7Z6ND5AJvq6F"
      },
      "source": [
        ""
      ],
      "execution_count": null,
      "outputs": []
    },
    {
      "cell_type": "code",
      "metadata": {
        "id": "McEFLI7Nvq6G"
      },
      "source": [
        "# checking relationship for column Asymmetrique Profile Score with target"
      ],
      "execution_count": null,
      "outputs": []
    },
    {
      "cell_type": "code",
      "metadata": {
        "id": "lXoVxAcFvq6G"
      },
      "source": [
        "# 1st we wil do normality test"
      ],
      "execution_count": null,
      "outputs": []
    },
    {
      "cell_type": "code",
      "metadata": {
        "id": "oN_e5ZI_vq6G",
        "outputId": "0c6fc10c-0f59-4600-e734-daa80e4a0ae9"
      },
      "source": [
        "sns.distplot(train_set[train_set['Converted']==0]['Asymmetrique Profile Score'])\n",
        "print('p_value=',shapiro(train_set[train_set['Converted']==0]['Asymmetrique Profile Score'])[1])"
      ],
      "execution_count": null,
      "outputs": [
        {
          "output_type": "stream",
          "text": [
            "p_value= 0.0\n"
          ],
          "name": "stdout"
        },
        {
          "output_type": "display_data",
          "data": {
            "image/png": "[encoded data removed]",
            "text/plain": [
              "<Figure size 432x288 with 1 Axes>"
            ]
          },
          "metadata": {
            "tags": [],
            "needs_background": "light"
          }
        }
      ]
    },
    {
      "cell_type": "code",
      "metadata": {
        "id": "RRDhXUWYvq6G",
        "outputId": "5e052f42-b84c-4cfb-de98-946cbf2a8e35"
      },
      "source": [
        "sns.distplot(train_set[train_set['Converted']==1]['Asymmetrique Profile Score'])\n",
        "print('p_value=',shapiro(train_set[train_set['Converted']==1]['Asymmetrique Profile Score'])[1])"
      ],
      "execution_count": null,
      "outputs": [
        {
          "output_type": "stream",
          "text": [
            "p_value= 4.974609548353101e-43\n"
          ],
          "name": "stdout"
        },
        {
          "output_type": "display_data",
          "data": {
            "image/png": "[encoded data removed]",
            "text/plain": [
              "<Figure size 432x288 with 1 Axes>"
            ]
          },
          "metadata": {
            "tags": [],
            "needs_background": "light"
          }
        }
      ]
    },
    {
      "cell_type": "code",
      "metadata": {
        "id": "WxGVWrNSvq6H"
      },
      "source": [
        "# since p value is < 0.05 => our sample data is not normally distributed => we will go with non parametric test"
      ],
      "execution_count": null,
      "outputs": []
    },
    {
      "cell_type": "code",
      "metadata": {
        "id": "6qLNLkugvq6H",
        "outputId": "97ec6bb2-1842-4489-b6cb-8590aeeffea9"
      },
      "source": [
        "mannwhitneyu(train_set[train_set['Converted']==1]['Asymmetrique Profile Score'],train_set[train_set['Converted']==0]['Asymmetrique Profile Score'])"
      ],
      "execution_count": null,
      "outputs": [
        {
          "output_type": "execute_result",
          "data": {
            "text/plain": [
              "MannwhitneyuResult(statistic=4185744.0, pvalue=1.973631387430449e-31)"
            ]
          },
          "metadata": {
            "tags": []
          },
          "execution_count": 361
        }
      ]
    },
    {
      "cell_type": "code",
      "metadata": {
        "id": "5Aw6azZSvq6H"
      },
      "source": [
        "# since p value < 0.05 => Asymmetrique Activity Score is significant feature"
      ],
      "execution_count": null,
      "outputs": []
    },
    {
      "cell_type": "code",
      "metadata": {
        "id": "6CB9JKHgvq6H",
        "outputId": "5a279cea-8e2d-4226-89dc-a63ec02950ec"
      },
      "source": [
        "plt.figure(figsize=(10,5))\n",
        "sns.distplot(train_set[train_set['Converted']==0]['Asymmetrique Profile Score'],kde_kws={'shade':True},hist=False)\n",
        "sns.distplot(train_set[train_set['Converted']==1]['Asymmetrique Profile Score'],kde_kws={'shade':True},hist=False)\n",
        "plt.show()"
      ],
      "execution_count": null,
      "outputs": [
        {
          "output_type": "display_data",
          "data": {
            "image/png": "[encoded data removed]",
            "text/plain": [
              "<Figure size 720x360 with 1 Axes>"
            ]
          },
          "metadata": {
            "tags": [],
            "needs_background": "light"
          }
        }
      ]
    },
    {
      "cell_type": "markdown",
      "metadata": {
        "id": "1c4DsZRqvq6I"
      },
      "source": [
        "# from the above plot also we can see that column Asymmetrique Profile Score is not able to distinguish the classes in our target feature. So it is insignificant. "
      ]
    },
    {
      "cell_type": "code",
      "metadata": {
        "id": "Fg7ANitgvq6I"
      },
      "source": [
        ""
      ],
      "execution_count": null,
      "outputs": []
    },
    {
      "cell_type": "markdown",
      "metadata": {
        "id": "BUW1YzKtvq6I"
      },
      "source": [
        "# Conclusions on numerical Columns"
      ]
    },
    {
      "cell_type": "markdown",
      "metadata": {
        "id": "L7Rgsi1Gvq6I"
      },
      "source": [
        "#  1st for TotalVisits\n",
        "\n",
        "=> 1) variance= 0.6321650428480624 => variance is low and it carries no information. So it is insignificant.\n",
        "\n",
        "=> 2) from the plot we can see that column TotalVisits is not able to distinguish the classes in our target feature. So it is insignificant.\n",
        "\n",
        "=> 3) statistically it is coming significant.\n",
        "\n",
        "On the basis of points 1 and 2 => we can drop this feature."
      ]
    },
    {
      "cell_type": "markdown",
      "metadata": {
        "id": "lCc6tlDavq6I"
      },
      "source": [
        ""
      ]
    },
    {
      "cell_type": "markdown",
      "metadata": {
        "id": "-lX9kUxbvq6I"
      },
      "source": [
        "# 2nd for Total Time Spent on Website\n",
        "\n",
        "=> 1) variance of column Total Time Spent on Website =  192.3914012409157 => variance is high and it carries information. So it is significant.\n",
        "\n",
        "=> 2) from the plot for this column we can see that Total Time Spent on Website is able to distinguish clearly between the classes in our target feature. So it is significant.\n",
        "\n",
        "=> 3) statistically it is coming significant.\n",
        "\n",
        "On the basis of points 1,2 and 3 => we need to keep this feature"
      ]
    },
    {
      "cell_type": "code",
      "metadata": {
        "id": "_FzQd2phvq6J"
      },
      "source": [
        ""
      ],
      "execution_count": null,
      "outputs": []
    },
    {
      "cell_type": "markdown",
      "metadata": {
        "id": "kQOh3rc9vq6J"
      },
      "source": [
        "# 3rd for Page Views Per Visit\n",
        "\n",
        "=> 1) variance of column Page Views Per Visit =   0.43606870385195484 => variance is low and it carries no information. So it is insignificant.\n",
        "\n",
        "=> 2) from the plot we can see that column Page Views Per Visit is not able to distinguish between the classes in our target feature. So it is insignificant.\n",
        "\n",
        "=> 3) statistically it is insignificant.\n",
        "\n",
        "On the basis of points 1,2 and 3 => we need to drop this feature"
      ]
    },
    {
      "cell_type": "markdown",
      "metadata": {
        "id": "bpZiu1xMvq6J"
      },
      "source": [
        ""
      ]
    },
    {
      "cell_type": "markdown",
      "metadata": {
        "id": "IXVckEblvq6K"
      },
      "source": [
        "# 4th for Asymmetrique Activity Score\n",
        "\n",
        "=> 1) variance of column Asymmetrique Activity Score =   1.0548834389597883 => variance is low and it carries no information. So it is insignificant.\n",
        "\n",
        "=> 2) from the plot we can see that column Asymmetrique Activity Score is not able to distinguish between the classes in our target feature. So it is insignificant.\n",
        "\n",
        "=> 3) Statistically it is significant\n",
        "\n",
        "On the basis of points 1 and 2 => we can drop this feature."
      ]
    },
    {
      "cell_type": "code",
      "metadata": {
        "id": "81OUq6wmvq6K"
      },
      "source": [
        ""
      ],
      "execution_count": null,
      "outputs": []
    },
    {
      "cell_type": "markdown",
      "metadata": {
        "id": "-79LR_bavq6K"
      },
      "source": [
        "# 5th for Asymmetrique Profile Score\n",
        "\n",
        "=> 1) variance of column Asymmetrique Profile Score =   2.023924764822011e-05 => variance is very low and it carries no information. So it is insignificant.\n",
        "\n",
        "=> 2) from the plot we can see that column Asymmetrique Profile Score is not able to distinguish between the classes in our target feature. So it is insignificant.\n",
        "\n",
        "=> 3) statistically it is insignificant.\n",
        "\n",
        "On the basis of points 1 and 2 => we can drop this feature."
      ]
    },
    {
      "cell_type": "code",
      "metadata": {
        "id": "sQH2wEW9vq6K"
      },
      "source": [
        ""
      ],
      "execution_count": null,
      "outputs": []
    },
    {
      "cell_type": "markdown",
      "metadata": {
        "id": "FKEuhGA0vq6K"
      },
      "source": [
        "# Checking correlation between numerical columns (Multivariate analysis)"
      ]
    },
    {
      "cell_type": "code",
      "metadata": {
        "id": "TEVIv4W-vq6L",
        "outputId": "d3756017-b8a3-4a2c-e1b6-4cd37c4b5c5f"
      },
      "source": [
        "sns.heatmap(X_train[num_cols].corr(),annot=True)"
      ],
      "execution_count": null,
      "outputs": [
        {
          "output_type": "execute_result",
          "data": {
            "text/plain": [
              "<matplotlib.axes._subplots.AxesSubplot at 0x16bcac83888>"
            ]
          },
          "metadata": {
            "tags": []
          },
          "execution_count": 364
        },
        {
          "output_type": "display_data",
          "data": {
            "image/png": "[encoded data removed]",
            "text/plain": [
              "<Figure size 432x288 with 2 Axes>"
            ]
          },
          "metadata": {
            "tags": [],
            "needs_background": "light"
          }
        }
      ]
    },
    {
      "cell_type": "markdown",
      "metadata": {
        "id": "Bo-mTubvvq6L"
      },
      "source": [
        "# from the above plot we can say that => \n",
        "1) TotalVisits and Total time spent on website is having high +ve correlation.\n",
        "2) Page views per visit and Total time spent on website is having high +ve correlation."
      ]
    },
    {
      "cell_type": "code",
      "metadata": {
        "id": "A_IUQ-u-vq6L"
      },
      "source": [
        ""
      ],
      "execution_count": null,
      "outputs": []
    },
    {
      "cell_type": "code",
      "metadata": {
        "id": "-Hp7ahYdvq6L"
      },
      "source": [
        ""
      ],
      "execution_count": null,
      "outputs": []
    },
    {
      "cell_type": "markdown",
      "metadata": {
        "id": "4ATYZAsMvq6L"
      },
      "source": [
        "# Atlast dropping all irrelevant columns"
      ]
    },
    {
      "cell_type": "code",
      "metadata": {
        "id": "ZXU8kciovq6M"
      },
      "source": [
        "X_train=X_train.drop(['TotalVisits','Page Views Per Visit','Asymmetrique Activity Score','Asymmetrique Profile Score'],axis=1)"
      ],
      "execution_count": null,
      "outputs": []
    },
    {
      "cell_type": "code",
      "metadata": {
        "id": "iasb4kyovq6M"
      },
      "source": [
        "# dropping same columns in the test dataset"
      ],
      "execution_count": null,
      "outputs": []
    },
    {
      "cell_type": "code",
      "metadata": {
        "id": "7wXxU3yjvq6N"
      },
      "source": [
        "test_set=pd.read_excel('test_set.xlsx')\n",
        "pd.set_option('display.max_columns',None)"
      ],
      "execution_count": null,
      "outputs": []
    },
    {
      "cell_type": "code",
      "metadata": {
        "id": "glaLrWMbvq6N",
        "outputId": "48518a19-c7bd-462d-a304-7465d88fe7ab"
      },
      "source": [
        "test_set.head()"
      ],
      "execution_count": null,
      "outputs": [
        {
          "output_type": "execute_result",
          "data": {
            "text/html": [
              "<div>\n",
              "<style scoped>\n",
              "    .dataframe tbody tr th:only-of-type {\n",
              "        vertical-align: middle;\n",
              "    }\n",
              "\n",
              "    .dataframe tbody tr th {\n",
              "        vertical-align: top;\n",
              "    }\n",
              "\n",
              "    .dataframe thead th {\n",
              "        text-align: right;\n",
              "    }\n",
              "</style>\n",
              "<table border=\"1\" class=\"dataframe\">\n",
              "  <thead>\n",
              "    <tr style=\"text-align: right;\">\n",
              "      <th></th>\n",
              "      <th>Unnamed: 0</th>\n",
              "      <th>Lead Source</th>\n",
              "      <th>Do Not Email</th>\n",
              "      <th>TotalVisits</th>\n",
              "      <th>Total Time Spent on Website</th>\n",
              "      <th>Page Views Per Visit</th>\n",
              "      <th>Last Activity</th>\n",
              "      <th>Country</th>\n",
              "      <th>Specialization</th>\n",
              "      <th>How did you hear about X Education</th>\n",
              "      <th>What is your current occupation</th>\n",
              "      <th>What matters most to you in choosing a course</th>\n",
              "      <th>Tags</th>\n",
              "      <th>Lead Quality</th>\n",
              "      <th>Lead Profile</th>\n",
              "      <th>City</th>\n",
              "      <th>Asymmetrique Activity Index</th>\n",
              "      <th>Asymmetrique Profile Index</th>\n",
              "      <th>Asymmetrique Activity Score</th>\n",
              "      <th>Asymmetrique Profile Score</th>\n",
              "      <th>A free copy of Mastering The Interview</th>\n",
              "      <th>Last Notable Activity</th>\n",
              "      <th>Converted</th>\n",
              "    </tr>\n",
              "  </thead>\n",
              "  <tbody>\n",
              "    <tr>\n",
              "      <td>0</td>\n",
              "      <td>567</td>\n",
              "      <td>Google</td>\n",
              "      <td>No</td>\n",
              "      <td>1.609438</td>\n",
              "      <td>18.220867</td>\n",
              "      <td>1.609438</td>\n",
              "      <td>Email Responded</td>\n",
              "      <td>India</td>\n",
              "      <td>IT Projects</td>\n",
              "      <td>Multiple Sources</td>\n",
              "      <td>Unemployed</td>\n",
              "      <td>Better Career Prospects</td>\n",
              "      <td>Not Reachable</td>\n",
              "      <td>Not Sure</td>\n",
              "      <td>Unknown</td>\n",
              "      <td>Tier1</td>\n",
              "      <td>Medium</td>\n",
              "      <td>Medium</td>\n",
              "      <td>14</td>\n",
              "      <td>0.062500</td>\n",
              "      <td>No</td>\n",
              "      <td>Email Opened</td>\n",
              "      <td>0</td>\n",
              "    </tr>\n",
              "    <tr>\n",
              "      <td>1</td>\n",
              "      <td>2303</td>\n",
              "      <td>Google</td>\n",
              "      <td>No</td>\n",
              "      <td>1.098612</td>\n",
              "      <td>39.395431</td>\n",
              "      <td>1.098612</td>\n",
              "      <td>Converted to Lead</td>\n",
              "      <td>India</td>\n",
              "      <td>Marketing</td>\n",
              "      <td>Other</td>\n",
              "      <td>Unemployed</td>\n",
              "      <td>Better Career Prospects</td>\n",
              "      <td>Lost to Others</td>\n",
              "      <td>Not Sure</td>\n",
              "      <td>Other Leads</td>\n",
              "      <td>Tier1</td>\n",
              "      <td>Medium</td>\n",
              "      <td>High</td>\n",
              "      <td>14</td>\n",
              "      <td>0.052632</td>\n",
              "      <td>No</td>\n",
              "      <td>Modified</td>\n",
              "      <td>0</td>\n",
              "    </tr>\n",
              "    <tr>\n",
              "      <td>2</td>\n",
              "      <td>1523</td>\n",
              "      <td>Google</td>\n",
              "      <td>No</td>\n",
              "      <td>1.386294</td>\n",
              "      <td>36.660606</td>\n",
              "      <td>1.386294</td>\n",
              "      <td>Email Responded</td>\n",
              "      <td>India</td>\n",
              "      <td>Tourism</td>\n",
              "      <td>unknown</td>\n",
              "      <td>Unemployed</td>\n",
              "      <td>Better Career Prospects</td>\n",
              "      <td>Response Received</td>\n",
              "      <td>Not Sure</td>\n",
              "      <td>Unknown</td>\n",
              "      <td>Unknown</td>\n",
              "      <td>Medium</td>\n",
              "      <td>Low</td>\n",
              "      <td>13</td>\n",
              "      <td>0.076923</td>\n",
              "      <td>No</td>\n",
              "      <td>Email Opened</td>\n",
              "      <td>0</td>\n",
              "    </tr>\n",
              "    <tr>\n",
              "      <td>3</td>\n",
              "      <td>6923</td>\n",
              "      <td>Google</td>\n",
              "      <td>No</td>\n",
              "      <td>1.791759</td>\n",
              "      <td>13.674794</td>\n",
              "      <td>1.791759</td>\n",
              "      <td>Email Responded</td>\n",
              "      <td>India</td>\n",
              "      <td>Finance</td>\n",
              "      <td>Online Search</td>\n",
              "      <td>Unemployed</td>\n",
              "      <td>Better Career Prospects</td>\n",
              "      <td>Status Unknown</td>\n",
              "      <td>Not Sure</td>\n",
              "      <td>Unknown</td>\n",
              "      <td>Tier2</td>\n",
              "      <td>Medium</td>\n",
              "      <td>Medium</td>\n",
              "      <td>14</td>\n",
              "      <td>0.058824</td>\n",
              "      <td>No</td>\n",
              "      <td>Email Opened</td>\n",
              "      <td>0</td>\n",
              "    </tr>\n",
              "    <tr>\n",
              "      <td>4</td>\n",
              "      <td>7841</td>\n",
              "      <td>Google</td>\n",
              "      <td>No</td>\n",
              "      <td>1.098612</td>\n",
              "      <td>26.495283</td>\n",
              "      <td>1.098612</td>\n",
              "      <td>Email Responded</td>\n",
              "      <td>India</td>\n",
              "      <td>Marketing</td>\n",
              "      <td>Social Media</td>\n",
              "      <td>Unemployed</td>\n",
              "      <td>Better Career Prospects</td>\n",
              "      <td>Response Received</td>\n",
              "      <td>Not Sure</td>\n",
              "      <td>Unknown</td>\n",
              "      <td>Tier3</td>\n",
              "      <td>Medium</td>\n",
              "      <td>High</td>\n",
              "      <td>13</td>\n",
              "      <td>0.055556</td>\n",
              "      <td>No</td>\n",
              "      <td>Email Opened</td>\n",
              "      <td>0</td>\n",
              "    </tr>\n",
              "  </tbody>\n",
              "</table>\n",
              "</div>"
            ],
            "text/plain": [
              "   Unnamed: 0 Lead Source Do Not Email  TotalVisits  \\\n",
              "0         567      Google           No     1.609438   \n",
              "1        2303      Google           No     1.098612   \n",
              "2        1523      Google           No     1.386294   \n",
              "3        6923      Google           No     1.791759   \n",
              "4        7841      Google           No     1.098612   \n",
              "\n",
              "   Total Time Spent on Website  Page Views Per Visit      Last Activity  \\\n",
              "0                    18.220867              1.609438    Email Responded   \n",
              "1                    39.395431              1.098612  Converted to Lead   \n",
              "2                    36.660606              1.386294    Email Responded   \n",
              "3                    13.674794              1.791759    Email Responded   \n",
              "4                    26.495283              1.098612    Email Responded   \n",
              "\n",
              "  Country Specialization How did you hear about X Education  \\\n",
              "0   India    IT Projects                   Multiple Sources   \n",
              "1   India      Marketing                              Other   \n",
              "2   India        Tourism                            unknown   \n",
              "3   India        Finance                      Online Search   \n",
              "4   India      Marketing                       Social Media   \n",
              "\n",
              "  What is your current occupation  \\\n",
              "0                      Unemployed   \n",
              "1                      Unemployed   \n",
              "2                      Unemployed   \n",
              "3                      Unemployed   \n",
              "4                      Unemployed   \n",
              "\n",
              "  What matters most to you in choosing a course               Tags  \\\n",
              "0                       Better Career Prospects      Not Reachable   \n",
              "1                       Better Career Prospects     Lost to Others   \n",
              "2                       Better Career Prospects  Response Received   \n",
              "3                       Better Career Prospects     Status Unknown   \n",
              "4                       Better Career Prospects  Response Received   \n",
              "\n",
              "  Lead Quality Lead Profile     City Asymmetrique Activity Index  \\\n",
              "0     Not Sure      Unknown    Tier1                      Medium   \n",
              "1     Not Sure  Other Leads    Tier1                      Medium   \n",
              "2     Not Sure      Unknown  Unknown                      Medium   \n",
              "3     Not Sure      Unknown    Tier2                      Medium   \n",
              "4     Not Sure      Unknown    Tier3                      Medium   \n",
              "\n",
              "  Asymmetrique Profile Index  Asymmetrique Activity Score  \\\n",
              "0                     Medium                           14   \n",
              "1                       High                           14   \n",
              "2                        Low                           13   \n",
              "3                     Medium                           14   \n",
              "4                       High                           13   \n",
              "\n",
              "   Asymmetrique Profile Score A free copy of Mastering The Interview  \\\n",
              "0                    0.062500                                     No   \n",
              "1                    0.052632                                     No   \n",
              "2                    0.076923                                     No   \n",
              "3                    0.058824                                     No   \n",
              "4                    0.055556                                     No   \n",
              "\n",
              "  Last Notable Activity  Converted  \n",
              "0          Email Opened          0  \n",
              "1              Modified          0  \n",
              "2          Email Opened          0  \n",
              "3          Email Opened          0  \n",
              "4          Email Opened          0  "
            ]
          },
          "metadata": {
            "tags": []
          },
          "execution_count": 368
        }
      ]
    },
    {
      "cell_type": "code",
      "metadata": {
        "id": "emtU6IiIvq6O"
      },
      "source": [
        "test_set=test_set.drop('Unnamed: 0',axis=1)"
      ],
      "execution_count": null,
      "outputs": []
    },
    {
      "cell_type": "code",
      "metadata": {
        "id": "BH7xQaaPvq6U",
        "outputId": "b58773cb-f908-4229-fd79-91b1e9f3951c"
      },
      "source": [
        "test_set.head()"
      ],
      "execution_count": null,
      "outputs": [
        {
          "output_type": "execute_result",
          "data": {
            "text/html": [
              "<div>\n",
              "<style scoped>\n",
              "    .dataframe tbody tr th:only-of-type {\n",
              "        vertical-align: middle;\n",
              "    }\n",
              "\n",
              "    .dataframe tbody tr th {\n",
              "        vertical-align: top;\n",
              "    }\n",
              "\n",
              "    .dataframe thead th {\n",
              "        text-align: right;\n",
              "    }\n",
              "</style>\n",
              "<table border=\"1\" class=\"dataframe\">\n",
              "  <thead>\n",
              "    <tr style=\"text-align: right;\">\n",
              "      <th></th>\n",
              "      <th>Lead Source</th>\n",
              "      <th>Do Not Email</th>\n",
              "      <th>TotalVisits</th>\n",
              "      <th>Total Time Spent on Website</th>\n",
              "      <th>Page Views Per Visit</th>\n",
              "      <th>Last Activity</th>\n",
              "      <th>Country</th>\n",
              "      <th>Specialization</th>\n",
              "      <th>How did you hear about X Education</th>\n",
              "      <th>What is your current occupation</th>\n",
              "      <th>What matters most to you in choosing a course</th>\n",
              "      <th>Tags</th>\n",
              "      <th>Lead Quality</th>\n",
              "      <th>Lead Profile</th>\n",
              "      <th>City</th>\n",
              "      <th>Asymmetrique Activity Index</th>\n",
              "      <th>Asymmetrique Profile Index</th>\n",
              "      <th>Asymmetrique Activity Score</th>\n",
              "      <th>Asymmetrique Profile Score</th>\n",
              "      <th>A free copy of Mastering The Interview</th>\n",
              "      <th>Last Notable Activity</th>\n",
              "      <th>Converted</th>\n",
              "    </tr>\n",
              "  </thead>\n",
              "  <tbody>\n",
              "    <tr>\n",
              "      <td>0</td>\n",
              "      <td>Google</td>\n",
              "      <td>No</td>\n",
              "      <td>1.609438</td>\n",
              "      <td>18.220867</td>\n",
              "      <td>1.609438</td>\n",
              "      <td>Email Responded</td>\n",
              "      <td>India</td>\n",
              "      <td>IT Projects</td>\n",
              "      <td>Multiple Sources</td>\n",
              "      <td>Unemployed</td>\n",
              "      <td>Better Career Prospects</td>\n",
              "      <td>Not Reachable</td>\n",
              "      <td>Not Sure</td>\n",
              "      <td>Unknown</td>\n",
              "      <td>Tier1</td>\n",
              "      <td>Medium</td>\n",
              "      <td>Medium</td>\n",
              "      <td>14</td>\n",
              "      <td>0.062500</td>\n",
              "      <td>No</td>\n",
              "      <td>Email Opened</td>\n",
              "      <td>0</td>\n",
              "    </tr>\n",
              "    <tr>\n",
              "      <td>1</td>\n",
              "      <td>Google</td>\n",
              "      <td>No</td>\n",
              "      <td>1.098612</td>\n",
              "      <td>39.395431</td>\n",
              "      <td>1.098612</td>\n",
              "      <td>Converted to Lead</td>\n",
              "      <td>India</td>\n",
              "      <td>Marketing</td>\n",
              "      <td>Other</td>\n",
              "      <td>Unemployed</td>\n",
              "      <td>Better Career Prospects</td>\n",
              "      <td>Lost to Others</td>\n",
              "      <td>Not Sure</td>\n",
              "      <td>Other Leads</td>\n",
              "      <td>Tier1</td>\n",
              "      <td>Medium</td>\n",
              "      <td>High</td>\n",
              "      <td>14</td>\n",
              "      <td>0.052632</td>\n",
              "      <td>No</td>\n",
              "      <td>Modified</td>\n",
              "      <td>0</td>\n",
              "    </tr>\n",
              "    <tr>\n",
              "      <td>2</td>\n",
              "      <td>Google</td>\n",
              "      <td>No</td>\n",
              "      <td>1.386294</td>\n",
              "      <td>36.660606</td>\n",
              "      <td>1.386294</td>\n",
              "      <td>Email Responded</td>\n",
              "      <td>India</td>\n",
              "      <td>Tourism</td>\n",
              "      <td>unknown</td>\n",
              "      <td>Unemployed</td>\n",
              "      <td>Better Career Prospects</td>\n",
              "      <td>Response Received</td>\n",
              "      <td>Not Sure</td>\n",
              "      <td>Unknown</td>\n",
              "      <td>Unknown</td>\n",
              "      <td>Medium</td>\n",
              "      <td>Low</td>\n",
              "      <td>13</td>\n",
              "      <td>0.076923</td>\n",
              "      <td>No</td>\n",
              "      <td>Email Opened</td>\n",
              "      <td>0</td>\n",
              "    </tr>\n",
              "    <tr>\n",
              "      <td>3</td>\n",
              "      <td>Google</td>\n",
              "      <td>No</td>\n",
              "      <td>1.791759</td>\n",
              "      <td>13.674794</td>\n",
              "      <td>1.791759</td>\n",
              "      <td>Email Responded</td>\n",
              "      <td>India</td>\n",
              "      <td>Finance</td>\n",
              "      <td>Online Search</td>\n",
              "      <td>Unemployed</td>\n",
              "      <td>Better Career Prospects</td>\n",
              "      <td>Status Unknown</td>\n",
              "      <td>Not Sure</td>\n",
              "      <td>Unknown</td>\n",
              "      <td>Tier2</td>\n",
              "      <td>Medium</td>\n",
              "      <td>Medium</td>\n",
              "      <td>14</td>\n",
              "      <td>0.058824</td>\n",
              "      <td>No</td>\n",
              "      <td>Email Opened</td>\n",
              "      <td>0</td>\n",
              "    </tr>\n",
              "    <tr>\n",
              "      <td>4</td>\n",
              "      <td>Google</td>\n",
              "      <td>No</td>\n",
              "      <td>1.098612</td>\n",
              "      <td>26.495283</td>\n",
              "      <td>1.098612</td>\n",
              "      <td>Email Responded</td>\n",
              "      <td>India</td>\n",
              "      <td>Marketing</td>\n",
              "      <td>Social Media</td>\n",
              "      <td>Unemployed</td>\n",
              "      <td>Better Career Prospects</td>\n",
              "      <td>Response Received</td>\n",
              "      <td>Not Sure</td>\n",
              "      <td>Unknown</td>\n",
              "      <td>Tier3</td>\n",
              "      <td>Medium</td>\n",
              "      <td>High</td>\n",
              "      <td>13</td>\n",
              "      <td>0.055556</td>\n",
              "      <td>No</td>\n",
              "      <td>Email Opened</td>\n",
              "      <td>0</td>\n",
              "    </tr>\n",
              "  </tbody>\n",
              "</table>\n",
              "</div>"
            ],
            "text/plain": [
              "  Lead Source Do Not Email  TotalVisits  Total Time Spent on Website  \\\n",
              "0      Google           No     1.609438                    18.220867   \n",
              "1      Google           No     1.098612                    39.395431   \n",
              "2      Google           No     1.386294                    36.660606   \n",
              "3      Google           No     1.791759                    13.674794   \n",
              "4      Google           No     1.098612                    26.495283   \n",
              "\n",
              "   Page Views Per Visit      Last Activity Country Specialization  \\\n",
              "0              1.609438    Email Responded   India    IT Projects   \n",
              "1              1.098612  Converted to Lead   India      Marketing   \n",
              "2              1.386294    Email Responded   India        Tourism   \n",
              "3              1.791759    Email Responded   India        Finance   \n",
              "4              1.098612    Email Responded   India      Marketing   \n",
              "\n",
              "  How did you hear about X Education What is your current occupation  \\\n",
              "0                   Multiple Sources                      Unemployed   \n",
              "1                              Other                      Unemployed   \n",
              "2                            unknown                      Unemployed   \n",
              "3                      Online Search                      Unemployed   \n",
              "4                       Social Media                      Unemployed   \n",
              "\n",
              "  What matters most to you in choosing a course               Tags  \\\n",
              "0                       Better Career Prospects      Not Reachable   \n",
              "1                       Better Career Prospects     Lost to Others   \n",
              "2                       Better Career Prospects  Response Received   \n",
              "3                       Better Career Prospects     Status Unknown   \n",
              "4                       Better Career Prospects  Response Received   \n",
              "\n",
              "  Lead Quality Lead Profile     City Asymmetrique Activity Index  \\\n",
              "0     Not Sure      Unknown    Tier1                      Medium   \n",
              "1     Not Sure  Other Leads    Tier1                      Medium   \n",
              "2     Not Sure      Unknown  Unknown                      Medium   \n",
              "3     Not Sure      Unknown    Tier2                      Medium   \n",
              "4     Not Sure      Unknown    Tier3                      Medium   \n",
              "\n",
              "  Asymmetrique Profile Index  Asymmetrique Activity Score  \\\n",
              "0                     Medium                           14   \n",
              "1                       High                           14   \n",
              "2                        Low                           13   \n",
              "3                     Medium                           14   \n",
              "4                       High                           13   \n",
              "\n",
              "   Asymmetrique Profile Score A free copy of Mastering The Interview  \\\n",
              "0                    0.062500                                     No   \n",
              "1                    0.052632                                     No   \n",
              "2                    0.076923                                     No   \n",
              "3                    0.058824                                     No   \n",
              "4                    0.055556                                     No   \n",
              "\n",
              "  Last Notable Activity  Converted  \n",
              "0          Email Opened          0  \n",
              "1              Modified          0  \n",
              "2          Email Opened          0  \n",
              "3          Email Opened          0  \n",
              "4          Email Opened          0  "
            ]
          },
          "metadata": {
            "tags": []
          },
          "execution_count": 370
        }
      ]
    },
    {
      "cell_type": "code",
      "metadata": {
        "id": "QVu84aBOvq6V",
        "outputId": "15ceb696-6933-4bbd-c1e3-ffc236dcc11b"
      },
      "source": [
        "X_test=test_set.drop('Converted',axis=1)\n",
        "X_test.head()"
      ],
      "execution_count": null,
      "outputs": [
        {
          "output_type": "execute_result",
          "data": {
            "text/html": [
              "<div>\n",
              "<style scoped>\n",
              "    .dataframe tbody tr th:only-of-type {\n",
              "        vertical-align: middle;\n",
              "    }\n",
              "\n",
              "    .dataframe tbody tr th {\n",
              "        vertical-align: top;\n",
              "    }\n",
              "\n",
              "    .dataframe thead th {\n",
              "        text-align: right;\n",
              "    }\n",
              "</style>\n",
              "<table border=\"1\" class=\"dataframe\">\n",
              "  <thead>\n",
              "    <tr style=\"text-align: right;\">\n",
              "      <th></th>\n",
              "      <th>Lead Source</th>\n",
              "      <th>Do Not Email</th>\n",
              "      <th>TotalVisits</th>\n",
              "      <th>Total Time Spent on Website</th>\n",
              "      <th>Page Views Per Visit</th>\n",
              "      <th>Last Activity</th>\n",
              "      <th>Country</th>\n",
              "      <th>Specialization</th>\n",
              "      <th>How did you hear about X Education</th>\n",
              "      <th>What is your current occupation</th>\n",
              "      <th>What matters most to you in choosing a course</th>\n",
              "      <th>Tags</th>\n",
              "      <th>Lead Quality</th>\n",
              "      <th>Lead Profile</th>\n",
              "      <th>City</th>\n",
              "      <th>Asymmetrique Activity Index</th>\n",
              "      <th>Asymmetrique Profile Index</th>\n",
              "      <th>Asymmetrique Activity Score</th>\n",
              "      <th>Asymmetrique Profile Score</th>\n",
              "      <th>A free copy of Mastering The Interview</th>\n",
              "      <th>Last Notable Activity</th>\n",
              "    </tr>\n",
              "  </thead>\n",
              "  <tbody>\n",
              "    <tr>\n",
              "      <td>0</td>\n",
              "      <td>Google</td>\n",
              "      <td>No</td>\n",
              "      <td>1.609438</td>\n",
              "      <td>18.220867</td>\n",
              "      <td>1.609438</td>\n",
              "      <td>Email Responded</td>\n",
              "      <td>India</td>\n",
              "      <td>IT Projects</td>\n",
              "      <td>Multiple Sources</td>\n",
              "      <td>Unemployed</td>\n",
              "      <td>Better Career Prospects</td>\n",
              "      <td>Not Reachable</td>\n",
              "      <td>Not Sure</td>\n",
              "      <td>Unknown</td>\n",
              "      <td>Tier1</td>\n",
              "      <td>Medium</td>\n",
              "      <td>Medium</td>\n",
              "      <td>14</td>\n",
              "      <td>0.062500</td>\n",
              "      <td>No</td>\n",
              "      <td>Email Opened</td>\n",
              "    </tr>\n",
              "    <tr>\n",
              "      <td>1</td>\n",
              "      <td>Google</td>\n",
              "      <td>No</td>\n",
              "      <td>1.098612</td>\n",
              "      <td>39.395431</td>\n",
              "      <td>1.098612</td>\n",
              "      <td>Converted to Lead</td>\n",
              "      <td>India</td>\n",
              "      <td>Marketing</td>\n",
              "      <td>Other</td>\n",
              "      <td>Unemployed</td>\n",
              "      <td>Better Career Prospects</td>\n",
              "      <td>Lost to Others</td>\n",
              "      <td>Not Sure</td>\n",
              "      <td>Other Leads</td>\n",
              "      <td>Tier1</td>\n",
              "      <td>Medium</td>\n",
              "      <td>High</td>\n",
              "      <td>14</td>\n",
              "      <td>0.052632</td>\n",
              "      <td>No</td>\n",
              "      <td>Modified</td>\n",
              "    </tr>\n",
              "    <tr>\n",
              "      <td>2</td>\n",
              "      <td>Google</td>\n",
              "      <td>No</td>\n",
              "      <td>1.386294</td>\n",
              "      <td>36.660606</td>\n",
              "      <td>1.386294</td>\n",
              "      <td>Email Responded</td>\n",
              "      <td>India</td>\n",
              "      <td>Tourism</td>\n",
              "      <td>unknown</td>\n",
              "      <td>Unemployed</td>\n",
              "      <td>Better Career Prospects</td>\n",
              "      <td>Response Received</td>\n",
              "      <td>Not Sure</td>\n",
              "      <td>Unknown</td>\n",
              "      <td>Unknown</td>\n",
              "      <td>Medium</td>\n",
              "      <td>Low</td>\n",
              "      <td>13</td>\n",
              "      <td>0.076923</td>\n",
              "      <td>No</td>\n",
              "      <td>Email Opened</td>\n",
              "    </tr>\n",
              "    <tr>\n",
              "      <td>3</td>\n",
              "      <td>Google</td>\n",
              "      <td>No</td>\n",
              "      <td>1.791759</td>\n",
              "      <td>13.674794</td>\n",
              "      <td>1.791759</td>\n",
              "      <td>Email Responded</td>\n",
              "      <td>India</td>\n",
              "      <td>Finance</td>\n",
              "      <td>Online Search</td>\n",
              "      <td>Unemployed</td>\n",
              "      <td>Better Career Prospects</td>\n",
              "      <td>Status Unknown</td>\n",
              "      <td>Not Sure</td>\n",
              "      <td>Unknown</td>\n",
              "      <td>Tier2</td>\n",
              "      <td>Medium</td>\n",
              "      <td>Medium</td>\n",
              "      <td>14</td>\n",
              "      <td>0.058824</td>\n",
              "      <td>No</td>\n",
              "      <td>Email Opened</td>\n",
              "    </tr>\n",
              "    <tr>\n",
              "      <td>4</td>\n",
              "      <td>Google</td>\n",
              "      <td>No</td>\n",
              "      <td>1.098612</td>\n",
              "      <td>26.495283</td>\n",
              "      <td>1.098612</td>\n",
              "      <td>Email Responded</td>\n",
              "      <td>India</td>\n",
              "      <td>Marketing</td>\n",
              "      <td>Social Media</td>\n",
              "      <td>Unemployed</td>\n",
              "      <td>Better Career Prospects</td>\n",
              "      <td>Response Received</td>\n",
              "      <td>Not Sure</td>\n",
              "      <td>Unknown</td>\n",
              "      <td>Tier3</td>\n",
              "      <td>Medium</td>\n",
              "      <td>High</td>\n",
              "      <td>13</td>\n",
              "      <td>0.055556</td>\n",
              "      <td>No</td>\n",
              "      <td>Email Opened</td>\n",
              "    </tr>\n",
              "  </tbody>\n",
              "</table>\n",
              "</div>"
            ],
            "text/plain": [
              "  Lead Source Do Not Email  TotalVisits  Total Time Spent on Website  \\\n",
              "0      Google           No     1.609438                    18.220867   \n",
              "1      Google           No     1.098612                    39.395431   \n",
              "2      Google           No     1.386294                    36.660606   \n",
              "3      Google           No     1.791759                    13.674794   \n",
              "4      Google           No     1.098612                    26.495283   \n",
              "\n",
              "   Page Views Per Visit      Last Activity Country Specialization  \\\n",
              "0              1.609438    Email Responded   India    IT Projects   \n",
              "1              1.098612  Converted to Lead   India      Marketing   \n",
              "2              1.386294    Email Responded   India        Tourism   \n",
              "3              1.791759    Email Responded   India        Finance   \n",
              "4              1.098612    Email Responded   India      Marketing   \n",
              "\n",
              "  How did you hear about X Education What is your current occupation  \\\n",
              "0                   Multiple Sources                      Unemployed   \n",
              "1                              Other                      Unemployed   \n",
              "2                            unknown                      Unemployed   \n",
              "3                      Online Search                      Unemployed   \n",
              "4                       Social Media                      Unemployed   \n",
              "\n",
              "  What matters most to you in choosing a course               Tags  \\\n",
              "0                       Better Career Prospects      Not Reachable   \n",
              "1                       Better Career Prospects     Lost to Others   \n",
              "2                       Better Career Prospects  Response Received   \n",
              "3                       Better Career Prospects     Status Unknown   \n",
              "4                       Better Career Prospects  Response Received   \n",
              "\n",
              "  Lead Quality Lead Profile     City Asymmetrique Activity Index  \\\n",
              "0     Not Sure      Unknown    Tier1                      Medium   \n",
              "1     Not Sure  Other Leads    Tier1                      Medium   \n",
              "2     Not Sure      Unknown  Unknown                      Medium   \n",
              "3     Not Sure      Unknown    Tier2                      Medium   \n",
              "4     Not Sure      Unknown    Tier3                      Medium   \n",
              "\n",
              "  Asymmetrique Profile Index  Asymmetrique Activity Score  \\\n",
              "0                     Medium                           14   \n",
              "1                       High                           14   \n",
              "2                        Low                           13   \n",
              "3                     Medium                           14   \n",
              "4                       High                           13   \n",
              "\n",
              "   Asymmetrique Profile Score A free copy of Mastering The Interview  \\\n",
              "0                    0.062500                                     No   \n",
              "1                    0.052632                                     No   \n",
              "2                    0.076923                                     No   \n",
              "3                    0.058824                                     No   \n",
              "4                    0.055556                                     No   \n",
              "\n",
              "  Last Notable Activity  \n",
              "0          Email Opened  \n",
              "1              Modified  \n",
              "2          Email Opened  \n",
              "3          Email Opened  \n",
              "4          Email Opened  "
            ]
          },
          "metadata": {
            "tags": []
          },
          "execution_count": 371
        }
      ]
    },
    {
      "cell_type": "code",
      "metadata": {
        "id": "pKSTIR81vq6V"
      },
      "source": [
        "y_test=test_set['Converted']"
      ],
      "execution_count": null,
      "outputs": []
    },
    {
      "cell_type": "code",
      "metadata": {
        "id": "lr3bj1jjvq6W",
        "outputId": "f686ad53-1f12-46b2-9bf5-520d60dc933f"
      },
      "source": [
        "y_test"
      ],
      "execution_count": null,
      "outputs": [
        {
          "output_type": "execute_result",
          "data": {
            "text/plain": [
              "0       0\n",
              "1       0\n",
              "2       0\n",
              "3       0\n",
              "4       0\n",
              "       ..\n",
              "2767    0\n",
              "2768    0\n",
              "2769    0\n",
              "2770    0\n",
              "2771    0\n",
              "Name: Converted, Length: 2772, dtype: int64"
            ]
          },
          "metadata": {
            "tags": []
          },
          "execution_count": 373
        }
      ]
    },
    {
      "cell_type": "code",
      "metadata": {
        "id": "cdwIr3bhvq6W"
      },
      "source": [
        "X_test=X_test.drop(['TotalVisits','Page Views Per Visit','Asymmetrique Activity Score','Asymmetrique Profile Score'],axis=1)"
      ],
      "execution_count": null,
      "outputs": []
    },
    {
      "cell_type": "code",
      "metadata": {
        "id": "A5mJzjfrvq6W",
        "outputId": "65f7e3d2-8de0-4961-812f-054409b16292"
      },
      "source": [
        "len(X_train.columns)"
      ],
      "execution_count": null,
      "outputs": [
        {
          "output_type": "execute_result",
          "data": {
            "text/plain": [
              "17"
            ]
          },
          "metadata": {
            "tags": []
          },
          "execution_count": 375
        }
      ]
    },
    {
      "cell_type": "code",
      "metadata": {
        "id": "ncjeNishvq6W",
        "outputId": "ab5a0996-c680-4d46-96a7-8067145699da"
      },
      "source": [
        "len(X_test.columns)"
      ],
      "execution_count": null,
      "outputs": [
        {
          "output_type": "execute_result",
          "data": {
            "text/plain": [
              "17"
            ]
          },
          "metadata": {
            "tags": []
          },
          "execution_count": 376
        }
      ]
    },
    {
      "cell_type": "code",
      "metadata": {
        "id": "K8CHp7L8vq6X"
      },
      "source": [
        ""
      ],
      "execution_count": null,
      "outputs": []
    }
  ]
}